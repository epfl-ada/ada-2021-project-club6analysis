{
 "cells": [
  {
   "cell_type": "code",
   "execution_count": 41,
   "id": "6f56e8ca",
   "metadata": {},
   "outputs": [],
   "source": [
    "import json\n",
    "import pandas as pd\n",
    "import matplotlib as plt\n",
    "import numpy as np"
   ]
  },
  {
   "cell_type": "markdown",
   "id": "9b94c2e7",
   "metadata": {},
   "source": [
    "# Get a feel of the data (Using NY-Times 2019 Quotes)\n",
    "\n",
    "Let's first load the data and convert it to tabular form"
   ]
  },
  {
   "cell_type": "code",
   "execution_count": 42,
   "id": "c70ded13",
   "metadata": {},
   "outputs": [],
   "source": [
    "data = []\n",
    "with open('quotes-2019-nytimes.json') as f:\n",
    "    for line in f:\n",
    "        data.append(json.loads(line))"
   ]
  },
  {
   "cell_type": "code",
   "execution_count": 43,
   "id": "dd05bf30",
   "metadata": {},
   "outputs": [],
   "source": [
    "def generate_data_model(data,n):\n",
    "    \"\"\"\n",
    "    Converting json to tabular data\n",
    "    Restrictions:\n",
    "    -> Allowing up to 3 speakers and their correspond probabilities\n",
    "    -> Not looking at urls, quids\n",
    "    \"\"\"\n",
    "    # Create initial dataframe \n",
    "    df = pd.DataFrame()\n",
    "    \n",
    "    # For each line in json document retrieve info and append to df\n",
    "    for i in range(n):\n",
    "        current_data = dict(data[i])\n",
    "        current_df = pd.DataFrame()\n",
    "        current_df['quoteID'] = [current_data['quoteID']]\n",
    "        current_df['quotation'] = [current_data['quotation']]\n",
    "        current_df['date'] = [current_data['date']]\n",
    "        current_df['numOccurrences'] = [current_data['numOccurrences']]\n",
    "        current_df['phase'] = [current_data['phase']]\n",
    "        \n",
    "        # Select only the 3 most probable speakers of the quote\n",
    "        for j in range(3):\n",
    "            if j < len(current_data['probas']):\n",
    "                current_df[f\"{'speaker'+str(j+1)}\"] = [current_data['probas'][j][0]]\n",
    "                current_df[f\"{'probas'+str(j+1)}\"] = [current_data['probas'][j][1]]\n",
    "            else:\n",
    "                current_df[f\"{'speaker'+str(j+1)}\"] = [np.nan]\n",
    "                current_df[f\"{'probas'+str(j+1)}\"] = [0]\n",
    "        df = df.append(current_df)\n",
    "    \n",
    "    \n",
    "    # Convert numeric columns to int (stored as object prior)\n",
    "    df['numOccurrences'] = pd.to_numeric(df['numOccurrences'])\n",
    "    df['count'] = 1\n",
    "    \n",
    "    return df"
   ]
  },
  {
   "cell_type": "code",
   "execution_count": 44,
   "id": "87eafd04",
   "metadata": {},
   "outputs": [],
   "source": [
    "df = generate_data_model(data,50000)"
   ]
  },
  {
   "cell_type": "markdown",
   "id": "cb75f07c",
   "metadata": {},
   "source": [
    "## Analysis"
   ]
  },
  {
   "cell_type": "markdown",
   "id": "cefc75e4",
   "metadata": {},
   "source": [
    "### Who has most quotes attributed to them?"
   ]
  },
  {
   "cell_type": "code",
   "execution_count": 106,
   "id": "e9f62cb0",
   "metadata": {},
   "outputs": [],
   "source": [
    "top_speakers = df.loc[df.speaker1 != 'None'].groupby(by=['speaker1']).sum().sort_values(by='numOccurrences',ascending=False).reset_index()"
   ]
  },
  {
   "cell_type": "code",
   "execution_count": 107,
   "id": "e92cbe52",
   "metadata": {},
   "outputs": [
    {
     "data": {
      "text/plain": [
       "<AxesSubplot:xlabel='speaker1'>"
      ]
     },
     "execution_count": 107,
     "metadata": {},
     "output_type": "execute_result"
    },
    {
     "data": {
      "image/png": "[encoded data removed]",
      "text/plain": [
       "<Figure size 432x288 with 1 Axes>"
      ]
     },
     "metadata": {
      "needs_background": "light"
     },
     "output_type": "display_data"
    }
   ],
   "source": [
    "top_speakers[0:10].plot.bar(x='speaker1', y='numOccurrences', rot=90);"
   ]
  },
  {
   "cell_type": "code",
   "execution_count": 59,
   "id": "bac8a882",
   "metadata": {},
   "outputs": [
    {
     "data": {
      "text/plain": [
       "6130"
      ]
     },
     "execution_count": 59,
     "metadata": {},
     "output_type": "execute_result"
    }
   ],
   "source": [
    "df['numOccurrences'].sum()"
   ]
  },
  {
   "cell_type": "code",
   "execution_count": null,
   "id": "f66fd042",
   "metadata": {},
   "outputs": [],
   "source": [
    "df.loc[df.speaker1 != 'None'].sort_values(by='probas1',ascending=False)"
   ]
  },
  {
   "cell_type": "code",
   "execution_count": 110,
   "id": "ed7cae73",
   "metadata": {},
   "outputs": [
    {
     "data": {
      "text/html": [
       "<div>\n",
       "<style scoped>\n",
       "    .dataframe tbody tr th:only-of-type {\n",
       "        vertical-align: middle;\n",
       "    }\n",
       "\n",
       "    .dataframe tbody tr th {\n",
       "        vertical-align: top;\n",
       "    }\n",
       "\n",
       "    .dataframe thead th {\n",
       "        text-align: right;\n",
       "    }\n",
       "</style>\n",
       "<table border=\"1\" class=\"dataframe\">\n",
       "  <thead>\n",
       "    <tr style=\"text-align: right;\">\n",
       "      <th></th>\n",
       "      <th>quoteID</th>\n",
       "      <th>quotation</th>\n",
       "      <th>date</th>\n",
       "      <th>numOccurrences</th>\n",
       "      <th>phase</th>\n",
       "      <th>speaker1</th>\n",
       "      <th>probas1</th>\n",
       "      <th>speaker2</th>\n",
       "      <th>probas2</th>\n",
       "      <th>speaker3</th>\n",
       "      <th>probas3</th>\n",
       "      <th>count</th>\n",
       "    </tr>\n",
       "  </thead>\n",
       "  <tbody>\n",
       "    <tr>\n",
       "      <th>0</th>\n",
       "      <td>2019-07-10-019478</td>\n",
       "      <td>go back and help fix the totally broken and cr...</td>\n",
       "      <td>2019-07-10 17:01:42</td>\n",
       "      <td>2737</td>\n",
       "      <td>E</td>\n",
       "      <td>President Donald Trump</td>\n",
       "      <td>0.448</td>\n",
       "      <td>None</td>\n",
       "      <td>0.2807</td>\n",
       "      <td>Donald Trump</td>\n",
       "      <td>0.0817</td>\n",
       "      <td>1</td>\n",
       "    </tr>\n",
       "  </tbody>\n",
       "</table>\n",
       "</div>"
      ],
      "text/plain": [
       "             quoteID                                          quotation  \\\n",
       "0  2019-07-10-019478  go back and help fix the totally broken and cr...   \n",
       "\n",
       "                  date  numOccurrences phase                speaker1 probas1  \\\n",
       "0  2019-07-10 17:01:42            2737     E  President Donald Trump   0.448   \n",
       "\n",
       "  speaker2 probas2      speaker3 probas3  count  \n",
       "0     None  0.2807  Donald Trump  0.0817      1  "
      ]
     },
     "execution_count": 110,
     "metadata": {},
     "output_type": "execute_result"
    }
   ],
   "source": [
    "df.loc[df.quoteID == '2019-07-10-019478']"
   ]
  },
  {
   "cell_type": "code",
   "execution_count": 111,
   "id": "1a542c9e",
   "metadata": {},
   "outputs": [
    {
     "data": {
      "text/plain": [
       "207527"
      ]
     },
     "execution_count": 111,
     "metadata": {},
     "output_type": "execute_result"
    }
   ],
   "source": [
    "len(data)"
   ]
  },
  {
   "cell_type": "code",
   "execution_count": 40,
   "id": "5a48f29b",
   "metadata": {},
   "outputs": [
    {
     "data": {
      "text/plain": [
       "quoteID                                           2019-11-21-109544\n",
       "quotation         Today I opened a major Apple Manufacturing pla...\n",
       "date                                            2019-11-21 00:00:00\n",
       "numOccurrences                                                  108\n",
       "phase                                                             E\n",
       "speaker1                                                       None\n",
       "probas1                                                      0.7843\n",
       "speaker2                                     President Donald Trump\n",
       "probas2                                                      0.1452\n",
       "speaker3                                               Donald Trump\n",
       "probas3                                                       0.033\n",
       "count                                                             1\n",
       "Name: 0, dtype: object"
      ]
     },
     "execution_count": 40,
     "metadata": {},
     "output_type": "execute_result"
    }
   ],
   "source": [
    "\n",
    "df[df['quotation'].str.contains(r'Apple')]\n"
   ]
  },
  {
   "cell_type": "code",
   "execution_count": null,
   "id": "5178a008",
   "metadata": {},
   "outputs": [],
   "source": []
  }
 ],
 "metadata": {
  "interpreter": {
   "hash": "40d3a090f54c6569ab1632332b64b2c03c39dcf918b08424e98f38b5ae0af88f"
  },
  "kernelspec": {
   "display_name": "Python 3.8.8 64-bit ('base': conda)",
   "name": "python3"
  },
  "language_info": {
   "codemirror_mode": {
    "name": "ipython",
    "version": 3
   },
   "file_extension": ".py",
   "mimetype": "text/x-python",
   "name": "python",
   "nbconvert_exporter": "python",
   "pygments_lexer": "ipython3",
   "version": "3.8.8"
  }
 },
 "nbformat": 4,
 "nbformat_minor": 5
}
