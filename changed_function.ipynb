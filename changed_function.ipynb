{
 "cells": [
  {
   "cell_type": "code",
   "execution_count": null,
   "metadata": {},
   "outputs": [],
   "source": [
    "import bar_chart_race as bcr\n",
    "\n",
    "def summary(values, ranks):\n",
    "    total_quotes = int(round(values.sum(), -2))\n",
    "    s = f'Total Quotes - {total_quotes:,.0f}'\n",
    "    return {'x': .99, 'y': .05, 's': s, 'ha': 'right', 'size': 8}\n",
    "\n",
    "quotes_per_date_plot = bcr.bar_chart_race(cummulative_quotes_per_month, filename='quotes_per_date_plot.mp4',\n",
    "                                          n_bars=10, filter_column_colors=True, period_length=1000, steps_per_period=20,\n",
    "                                          title='Most frequently quoted speakers about Apple', period_fmt='%B %Y',    \n",
    "                                          shared_fontdict={'family' : 'Helvetica', 'color' : '.1'}, cmap='dark12',\n",
    "                                          period_summary_func=summary\n",
    ")"
   ]
  }
 ],
 "metadata": {
  "language_info": {
   "name": "python"
  },
  "orig_nbformat": 4
 },
 "nbformat": 4,
 "nbformat_minor": 2
}
