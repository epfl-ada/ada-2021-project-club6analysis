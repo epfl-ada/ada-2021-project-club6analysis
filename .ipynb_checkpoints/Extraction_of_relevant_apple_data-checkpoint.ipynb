{
 "cells": [
  {
   "cell_type": "markdown",
   "id": "019a3de7",
   "metadata": {},
   "source": [
    "\n",
    "## FastText installation\n",
    "\n",
    "To use this notebook you need to install fasttext\n",
    "> pip install fasttext"
   ]
  },
  {
   "cell_type": "code",
   "execution_count": 11,
   "id": "655623ce",
   "metadata": {},
   "outputs": [],
   "source": [
    "import fasttext\n",
    "import numpy as np\n",
    "import json\n",
    "import pandas as pd\n",
    "import matplotlib as plt\n",
    "from nltk.stem import PorterStemmer\n",
    "import os.path\n",
    "import time\n",
    "from IPython.display import clear_output"
   ]
  },
  {
   "cell_type": "code",
   "execution_count": 12,
   "id": "68e9ee3f",
   "metadata": {},
   "outputs": [],
   "source": [
    "def stem_string_to_list(arr):\n",
    "    ps = PorterStemmer()\n",
    "    return [ps.stem(word) for word in arr.split()]\n",
    "\n",
    "def stem_list_to_list(arr):\n",
    "    ps = PorterStemmer()\n",
    "    return [ps.stem(word) for word in arr]"
   ]
  },
  {
   "cell_type": "code",
   "execution_count": 13,
   "id": "ed71deff",
   "metadata": {},
   "outputs": [],
   "source": [
    "add_list = [\"apple inc\", \"tim cook\", \"steve jobs\", \"iphone\", \"ipad\", \"imac\", \"apple watch\", \"macbook\", \"macbook pro\", \"aapl\", \"mac mini\"]\n",
    "check_list = [\"apple\"]\n",
    "exclude_list = [\"fruit\", 'banana', 'orange', 'strawberries', \"watermelon\", 'lemons']"
   ]
  },
  {
   "cell_type": "code",
   "execution_count": 14,
   "id": "46cd06f4",
   "metadata": {},
   "outputs": [],
   "source": [
    "def filter_json(dataframe, add_list, check_list, exclude_list, filename, make_new_file=False):\n",
    "    # Setup variables\n",
    "    ps = PorterStemmer()\n",
    "    \n",
    "    if not os.path.isfile(filename):\n",
    "        f = open(filename, 'w')\n",
    "    f = open(filename, 'a')\n",
    "    \n",
    "    # Stemming the chekcup lists\n",
    "    add_list = stem_list_to_list(add_list)\n",
    "    check_list = stem_list_to_list(check_list)\n",
    "    \n",
    "    for index, row in dataframe.iterrows():\n",
    "        stemmed_quote_list = stem_string_to_list(row['quotation'])\n",
    "\n",
    "        \n",
    "        #========================================================\n",
    "        # Starting to check if quote contains any must have words\n",
    "        if not set(stemmed_quote_list).isdisjoint(add_list):\n",
    "            apple_json_obj = row.to_json() \n",
    "            f.write(f\"{apple_json_obj}\\n\")\n",
    "            \n",
    "        #========================================================\n",
    "        # Starting to check if quote contains any could have words\n",
    "        elif (not set(stemmed_quote_list).isdisjoint(check_list)) and set(stemmed_quote_list).isdisjoint(exclude_list):\n",
    "            apple_json_obj = row.to_json() \n",
    "            f.write(f\"{apple_json_obj}\\n\")\n",
    "            \n",
    "            \n",
    "    f.close()\n",
    "    "
   ]
  },
  {
   "cell_type": "code",
   "execution_count": 21,
   "id": "b2fa1f95",
   "metadata": {},
   "outputs": [],
   "source": [
    "def process_chunk(chunk):\n",
    "    filter_json(chunk, add_list, check_list, exclude_list, \"data/test.txt\", make_new_file=True)"
   ]
  },
  {
   "cell_type": "code",
   "execution_count": 32,
   "id": "c8596433",
   "metadata": {},
   "outputs": [],
   "source": [
    "filename = 'data/quotes-2020.json.bz2'\n",
    "chunksize = 10000\n",
    "compression = 'bz2'\n",
    "number_of_compressed_MB = 830.1\n",
    "total_chunks = int(number_of_compressed_MB/2.1)\n",
    "new_chunk = int(total_chunks/50)\n"
   ]
  },
  {
   "cell_type": "code",
   "execution_count": 33,
   "id": "3904963e",
   "metadata": {},
   "outputs": [
    {
     "name": "stdout",
     "output_type": "stream",
     "text": [
      "Chunk number 525: 2540.6311371326447\n",
      "###########################################################################\n",
      "Chunk number 525: 2540.6388309001923\n"
     ]
    }
   ],
   "source": [
    "start_time = time.time()\n",
    "\n",
    "counter = 0\n",
    "load_bar = 0\n",
    "\n",
    "df_reader = pd.read_json(filename, lines=True, compression=compression, chunksize=chunksize)\n",
    "for chunk in df_reader:\n",
    "    process_chunk(chunk)\n",
    "    clear_output()\n",
    "    counter += 1\n",
    "    if counter%new_chunk==0:\n",
    "        load_bar += 1\n",
    "    \n",
    "    print(f\"Chunk number {counter}: {time.time() - start_time}\")\n",
    "    print(f\"{'#'*load_bar}{'_'*(50-load_bar)}\")\n",
    "print(f\"Chunk number {counter}: {time.time() - start_time}\")"
   ]
  },
  {
   "cell_type": "code",
   "execution_count": null,
   "id": "0ca87a60",
   "metadata": {},
   "outputs": [],
   "source": []
  },
  {
   "cell_type": "code",
   "execution_count": null,
   "id": "ece9729f",
   "metadata": {},
   "outputs": [],
   "source": []
  },
  {
   "cell_type": "code",
   "execution_count": null,
   "id": "ec7b9b55",
   "metadata": {},
   "outputs": [],
   "source": []
  },
  {
   "cell_type": "code",
   "execution_count": null,
   "id": "4852dcfe",
   "metadata": {},
   "outputs": [],
   "source": []
  },
  {
   "cell_type": "code",
   "execution_count": null,
   "id": "96a1ad67",
   "metadata": {},
   "outputs": [],
   "source": []
  }
 ],
 "metadata": {
  "kernelspec": {
   "display_name": "Python 3",
   "language": "python",
   "name": "python3"
  },
  "language_info": {
   "codemirror_mode": {
    "name": "ipython",
    "version": 3
   },
   "file_extension": ".py",
   "mimetype": "text/x-python",
   "name": "python",
   "nbconvert_exporter": "python",
   "pygments_lexer": "ipython3",
   "version": "3.8.8"
  }
 },
 "nbformat": 4,
 "nbformat_minor": 5
}
