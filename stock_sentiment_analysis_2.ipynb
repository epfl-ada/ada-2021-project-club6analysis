{
 "cells": [
  {
   "cell_type": "code",
   "execution_count": 68,
   "id": "18b6fc49",
   "metadata": {},
   "outputs": [],
   "source": [
    "import pandas as pd\n",
    "import numpy as np\n",
    "import matplotlib.pyplot as plt\n",
    "import matplotlib.ticker as plticker\n",
    "import datetime as dt\n",
    "from pandas.tseries.offsets import DateOffset\n",
    "import seaborn as sns\n",
    "from pandas.tseries.offsets import MonthEnd"
   ]
  },
  {
   "cell_type": "markdown",
   "id": "6b689775",
   "metadata": {},
   "source": [
    "## Data from sentiment analysis"
   ]
  },
  {
   "cell_type": "code",
   "execution_count": 4,
   "id": "b37579fe",
   "metadata": {},
   "outputs": [
    {
     "data": {
      "text/html": [
       "<div>\n",
       "<style scoped>\n",
       "    .dataframe tbody tr th:only-of-type {\n",
       "        vertical-align: middle;\n",
       "    }\n",
       "\n",
       "    .dataframe tbody tr th {\n",
       "        vertical-align: top;\n",
       "    }\n",
       "\n",
       "    .dataframe thead th {\n",
       "        text-align: right;\n",
       "    }\n",
       "</style>\n",
       "<table border=\"1\" class=\"dataframe\">\n",
       "  <thead>\n",
       "    <tr style=\"text-align: right;\">\n",
       "      <th></th>\n",
       "      <th>Unnamed: 0</th>\n",
       "      <th>quoteID</th>\n",
       "      <th>quotation</th>\n",
       "      <th>speaker</th>\n",
       "      <th>date</th>\n",
       "      <th>numOccurrences</th>\n",
       "      <th>neg</th>\n",
       "      <th>neu</th>\n",
       "      <th>pos</th>\n",
       "      <th>compound</th>\n",
       "      <th>date_clean</th>\n",
       "    </tr>\n",
       "  </thead>\n",
       "  <tbody>\n",
       "    <tr>\n",
       "      <th>0</th>\n",
       "      <td>0</td>\n",
       "      <td>2015-01-01-041284</td>\n",
       "      <td>With major new premium services from Apple and...</td>\n",
       "      <td>Geoff Taylor</td>\n",
       "      <td>2015-01-01 00:01:00</td>\n",
       "      <td>3</td>\n",
       "      <td>0.0</td>\n",
       "      <td>0.854</td>\n",
       "      <td>0.146</td>\n",
       "      <td>0.5859</td>\n",
       "      <td>2015-01-01</td>\n",
       "    </tr>\n",
       "    <tr>\n",
       "      <th>1</th>\n",
       "      <td>1</td>\n",
       "      <td>2015-01-01-032875</td>\n",
       "      <td>They realize that they just can't assume that ...</td>\n",
       "      <td>Angus King</td>\n",
       "      <td>2015-01-01 00:14:24</td>\n",
       "      <td>1</td>\n",
       "      <td>0.0</td>\n",
       "      <td>0.892</td>\n",
       "      <td>0.108</td>\n",
       "      <td>0.6369</td>\n",
       "      <td>2015-01-01</td>\n",
       "    </tr>\n",
       "    <tr>\n",
       "      <th>2</th>\n",
       "      <td>2</td>\n",
       "      <td>2015-01-01-036563</td>\n",
       "      <td>We feel that there are a substantial number of...</td>\n",
       "      <td>William Anderson</td>\n",
       "      <td>2015-01-01 01:30:18</td>\n",
       "      <td>1</td>\n",
       "      <td>0.0</td>\n",
       "      <td>0.795</td>\n",
       "      <td>0.205</td>\n",
       "      <td>0.2732</td>\n",
       "      <td>2015-01-01</td>\n",
       "    </tr>\n",
       "    <tr>\n",
       "      <th>3</th>\n",
       "      <td>3</td>\n",
       "      <td>2015-01-01-041777</td>\n",
       "      <td>You can play a murderer's row but in conferenc...</td>\n",
       "      <td>Jim Crews</td>\n",
       "      <td>2015-01-01 02:47:17</td>\n",
       "      <td>1</td>\n",
       "      <td>0.0</td>\n",
       "      <td>0.769</td>\n",
       "      <td>0.231</td>\n",
       "      <td>0.5859</td>\n",
       "      <td>2015-01-01</td>\n",
       "    </tr>\n",
       "    <tr>\n",
       "      <th>4</th>\n",
       "      <td>4</td>\n",
       "      <td>2015-01-01-039665</td>\n",
       "      <td>We've also, surprisingly, had a lot of Apple r...</td>\n",
       "      <td>Daniel Williams</td>\n",
       "      <td>2015-01-01 04:10:31</td>\n",
       "      <td>1</td>\n",
       "      <td>0.0</td>\n",
       "      <td>0.804</td>\n",
       "      <td>0.196</td>\n",
       "      <td>0.2960</td>\n",
       "      <td>2015-01-01</td>\n",
       "    </tr>\n",
       "  </tbody>\n",
       "</table>\n",
       "</div>"
      ],
      "text/plain": [
       "   Unnamed: 0            quoteID  \\\n",
       "0           0  2015-01-01-041284   \n",
       "1           1  2015-01-01-032875   \n",
       "2           2  2015-01-01-036563   \n",
       "3           3  2015-01-01-041777   \n",
       "4           4  2015-01-01-039665   \n",
       "\n",
       "                                           quotation           speaker  \\\n",
       "0  With major new premium services from Apple and...      Geoff Taylor   \n",
       "1  They realize that they just can't assume that ...        Angus King   \n",
       "2  We feel that there are a substantial number of...  William Anderson   \n",
       "3  You can play a murderer's row but in conferenc...         Jim Crews   \n",
       "4  We've also, surprisingly, had a lot of Apple r...   Daniel Williams   \n",
       "\n",
       "                  date  numOccurrences  neg    neu    pos  compound  \\\n",
       "0  2015-01-01 00:01:00               3  0.0  0.854  0.146    0.5859   \n",
       "1  2015-01-01 00:14:24               1  0.0  0.892  0.108    0.6369   \n",
       "2  2015-01-01 01:30:18               1  0.0  0.795  0.205    0.2732   \n",
       "3  2015-01-01 02:47:17               1  0.0  0.769  0.231    0.5859   \n",
       "4  2015-01-01 04:10:31               1  0.0  0.804  0.196    0.2960   \n",
       "\n",
       "   date_clean  \n",
       "0  2015-01-01  \n",
       "1  2015-01-01  \n",
       "2  2015-01-01  \n",
       "3  2015-01-01  \n",
       "4  2015-01-01  "
      ]
     },
     "execution_count": 4,
     "metadata": {},
     "output_type": "execute_result"
    }
   ],
   "source": [
    "sentiment_df = pd.read_csv('./data/sentiment_df.csv')\n",
    "sentiment_df.head()"
   ]
  },
  {
   "cell_type": "markdown",
   "id": "73c0cdd6",
   "metadata": {},
   "source": [
    "## Monthly sentiment"
   ]
  },
  {
   "cell_type": "code",
   "execution_count": 10,
   "id": "662c8740",
   "metadata": {},
   "outputs": [],
   "source": [
    " # Based on how much they contribute increase size of scatter plot circle\n",
    "agg_month_sentiment = []\n",
    "agg_month_dates = []\n",
    "\n",
    "for index, (idx, row) in enumerate(sentiment_df.iterrows()):\n",
    "    date = row['date_clean']\n",
    "    if index == 0:\n",
    "        current_month = date[:7]\n",
    "        current_size = 0\n",
    "\n",
    "    tmp_month = current_month\n",
    "    current_month = date[:7] # the seven first digits of the date\n",
    "    if tmp_month != current_month:\n",
    "        agg_month_sentiment.append(current_size)\n",
    "        current_size = 0\n",
    "        agg_month_dates.append(current_month)\n",
    "\n",
    "    # updates weighted aggregated value of positive and negative\n",
    "    current_size += row['compound']*row['numOccurrences']\n",
    "\n",
    "result_values = []\n",
    "result_mon = []\n",
    "for mon, agg in zip(agg_month_dates, agg_month_sentiment):\n",
    "    result_values.append(agg)\n",
    "    result_mon.append(mon)"
   ]
  },
  {
   "cell_type": "markdown",
   "id": "242d3e26",
   "metadata": {},
   "source": [
    "We create a monthly aggregated sentiment dataframe that will be useful later when merging stock data and sentiment data."
   ]
  },
  {
   "cell_type": "code",
   "execution_count": 16,
   "id": "d81c2a3f",
   "metadata": {},
   "outputs": [
    {
     "data": {
      "text/html": [
       "<div>\n",
       "<style scoped>\n",
       "    .dataframe tbody tr th:only-of-type {\n",
       "        vertical-align: middle;\n",
       "    }\n",
       "\n",
       "    .dataframe tbody tr th {\n",
       "        vertical-align: top;\n",
       "    }\n",
       "\n",
       "    .dataframe thead th {\n",
       "        text-align: right;\n",
       "    }\n",
       "</style>\n",
       "<table border=\"1\" class=\"dataframe\">\n",
       "  <thead>\n",
       "    <tr style=\"text-align: right;\">\n",
       "      <th></th>\n",
       "      <th>Date</th>\n",
       "      <th>Sentiment_score</th>\n",
       "    </tr>\n",
       "  </thead>\n",
       "  <tbody>\n",
       "    <tr>\n",
       "      <th>0</th>\n",
       "      <td>2015-02-01</td>\n",
       "      <td>1142.3663</td>\n",
       "    </tr>\n",
       "    <tr>\n",
       "      <th>1</th>\n",
       "      <td>2015-03-01</td>\n",
       "      <td>788.0255</td>\n",
       "    </tr>\n",
       "    <tr>\n",
       "      <th>2</th>\n",
       "      <td>2015-04-01</td>\n",
       "      <td>1894.8802</td>\n",
       "    </tr>\n",
       "    <tr>\n",
       "      <th>3</th>\n",
       "      <td>2015-05-01</td>\n",
       "      <td>1344.7904</td>\n",
       "    </tr>\n",
       "    <tr>\n",
       "      <th>4</th>\n",
       "      <td>2015-06-01</td>\n",
       "      <td>815.1817</td>\n",
       "    </tr>\n",
       "  </tbody>\n",
       "</table>\n",
       "</div>"
      ],
      "text/plain": [
       "        Date  Sentiment_score\n",
       "0 2015-02-01        1142.3663\n",
       "1 2015-03-01         788.0255\n",
       "2 2015-04-01        1894.8802\n",
       "3 2015-05-01        1344.7904\n",
       "4 2015-06-01         815.1817"
      ]
     },
     "execution_count": 16,
     "metadata": {},
     "output_type": "execute_result"
    }
   ],
   "source": [
    "sentiment_monthly_df = pd.DataFrame(zip(result_mon, result_values), columns =['Date', 'Sentiment_score'])\n",
    "sentiment_monthly_df['Date'] = sentiment_monthly_df['Date'].apply(lambda x: dt.datetime.strptime(x[:10], '%Y-%m'))\n",
    "sentiment_monthly_df.head()"
   ]
  },
  {
   "cell_type": "markdown",
   "id": "5fa15221",
   "metadata": {},
   "source": [
    "### Weekly sentiment"
   ]
  },
  {
   "cell_type": "code",
   "execution_count": 19,
   "id": "57a4de36",
   "metadata": {},
   "outputs": [],
   "source": [
    "agg_week_sentiment_weekly = []\n",
    "agg_week_dates_weekly = []\n",
    "day_counter_weekly = 0\n",
    "for index, (idx, row) in enumerate(sentiment_df.iterrows()):\n",
    "    date = row['date_clean']\n",
    "    if index == 0:\n",
    "        current_day_weekly = date[:10]\n",
    "        current_size_weekly = 0\n",
    "\n",
    "\n",
    "    tmp_day_weekly = current_day_weekly\n",
    "    current_day_weekly = date[:10] # the seven first digits of the date\n",
    "    if tmp_day_weekly != current_day_weekly:\n",
    "        day_counter_weekly += 1\n",
    "    if day_counter_weekly == 7:\n",
    "        agg_week_sentiment_weekly.append(current_size_weekly)\n",
    "        agg_week_dates_weekly.append(current_day_weekly)\n",
    "        current_size_weekly = 0\n",
    "        day_counter_weekly = 0\n",
    "\n",
    "    # updates weighted aggregated value of positive and negative\n",
    "    current_size_weekly += row['compound']*row['numOccurrences']\n",
    "\n",
    "\n",
    "result_week_values = []\n",
    "result_week = []\n",
    "for week, agg in zip(agg_week_dates_weekly, agg_week_sentiment_weekly):\n",
    "    result_week_values.append(agg)\n",
    "    result_week.append(week)"
   ]
  },
  {
   "cell_type": "code",
   "execution_count": 21,
   "id": "2fb9fbaf",
   "metadata": {},
   "outputs": [
    {
     "data": {
      "text/html": [
       "<div>\n",
       "<style scoped>\n",
       "    .dataframe tbody tr th:only-of-type {\n",
       "        vertical-align: middle;\n",
       "    }\n",
       "\n",
       "    .dataframe tbody tr th {\n",
       "        vertical-align: top;\n",
       "    }\n",
       "\n",
       "    .dataframe thead th {\n",
       "        text-align: right;\n",
       "    }\n",
       "</style>\n",
       "<table border=\"1\" class=\"dataframe\">\n",
       "  <thead>\n",
       "    <tr style=\"text-align: right;\">\n",
       "      <th></th>\n",
       "      <th>Date</th>\n",
       "      <th>Sentiment_score</th>\n",
       "    </tr>\n",
       "  </thead>\n",
       "  <tbody>\n",
       "    <tr>\n",
       "      <th>0</th>\n",
       "      <td>2015-01-08</td>\n",
       "      <td>88.4621</td>\n",
       "    </tr>\n",
       "    <tr>\n",
       "      <th>1</th>\n",
       "      <td>2015-01-15</td>\n",
       "      <td>176.8740</td>\n",
       "    </tr>\n",
       "    <tr>\n",
       "      <th>2</th>\n",
       "      <td>2015-01-22</td>\n",
       "      <td>158.2463</td>\n",
       "    </tr>\n",
       "    <tr>\n",
       "      <th>3</th>\n",
       "      <td>2015-01-29</td>\n",
       "      <td>604.9199</td>\n",
       "    </tr>\n",
       "    <tr>\n",
       "      <th>4</th>\n",
       "      <td>2015-02-05</td>\n",
       "      <td>211.2495</td>\n",
       "    </tr>\n",
       "    <tr>\n",
       "      <th>...</th>\n",
       "      <td>...</td>\n",
       "      <td>...</td>\n",
       "    </tr>\n",
       "    <tr>\n",
       "      <th>257</th>\n",
       "      <td>2020-03-19</td>\n",
       "      <td>260.1892</td>\n",
       "    </tr>\n",
       "    <tr>\n",
       "      <th>258</th>\n",
       "      <td>2020-03-26</td>\n",
       "      <td>112.9602</td>\n",
       "    </tr>\n",
       "    <tr>\n",
       "      <th>259</th>\n",
       "      <td>2020-04-02</td>\n",
       "      <td>21.0550</td>\n",
       "    </tr>\n",
       "    <tr>\n",
       "      <th>260</th>\n",
       "      <td>2020-04-09</td>\n",
       "      <td>58.1694</td>\n",
       "    </tr>\n",
       "    <tr>\n",
       "      <th>261</th>\n",
       "      <td>2020-04-16</td>\n",
       "      <td>91.0318</td>\n",
       "    </tr>\n",
       "  </tbody>\n",
       "</table>\n",
       "<p>262 rows × 2 columns</p>\n",
       "</div>"
      ],
      "text/plain": [
       "          Date  Sentiment_score\n",
       "0   2015-01-08          88.4621\n",
       "1   2015-01-15         176.8740\n",
       "2   2015-01-22         158.2463\n",
       "3   2015-01-29         604.9199\n",
       "4   2015-02-05         211.2495\n",
       "..         ...              ...\n",
       "257 2020-03-19         260.1892\n",
       "258 2020-03-26         112.9602\n",
       "259 2020-04-02          21.0550\n",
       "260 2020-04-09          58.1694\n",
       "261 2020-04-16          91.0318\n",
       "\n",
       "[262 rows x 2 columns]"
      ]
     },
     "execution_count": 21,
     "metadata": {},
     "output_type": "execute_result"
    }
   ],
   "source": [
    "sentiment_weekly_df=pd.DataFrame(zip(result_week, result_week_values), columns =['Date', 'Sentiment_score'])\n",
    "sentiment_weekly_df['Date'] = pd.to_datetime(sentiment_weekly_df['Date'])\n",
    "\n",
    "sentiment_weekly_df"
   ]
  },
  {
   "cell_type": "markdown",
   "id": "07a23114",
   "metadata": {},
   "source": [
    "## Get data from stock analysis"
   ]
  },
  {
   "cell_type": "code",
   "execution_count": 23,
   "id": "8524e126",
   "metadata": {},
   "outputs": [],
   "source": [
    "stock_data=pd.read_csv('./data/AAPL_2015_to_2020_yahoo_finance.csv')\n",
    "apple_event_and_stock_data=pd.read_csv('./data/events_dates_with_stock_data.csv')\n",
    "apple_earnings_and_stock_data=pd.read_csv('./data/earnings_dates_with_stock_data.csv')"
   ]
  },
  {
   "cell_type": "markdown",
   "id": "aebc6c25",
   "metadata": {},
   "source": [
    "Remove stock data from after 16-04-2020 due to the lack of sentiment data after that date."
   ]
  },
  {
   "cell_type": "code",
   "execution_count": 24,
   "id": "48af9e19",
   "metadata": {},
   "outputs": [],
   "source": [
    "stock_data=stock_data[~(stock_data['Date'] > '2020-04-16')]"
   ]
  },
  {
   "cell_type": "markdown",
   "id": "a1ce630a",
   "metadata": {},
   "source": [
    "### Group by week"
   ]
  },
  {
   "cell_type": "code",
   "execution_count": 28,
   "id": "26913a55",
   "metadata": {},
   "outputs": [],
   "source": [
    "stock_data_weekly_average=stock_data.copy()\n",
    "\n",
    "#Create a new dataframe containing the weekly average of the stock price. The method is obtained from\n",
    "stock_data_weekly_average.Date = pd.to_datetime(stock_data_weekly_average.Date) - pd.to_timedelta(7, unit='d')\n",
    "stock_data_weekly_average = stock_data_weekly_average.groupby([pd.Grouper(key='Date', freq='W-MON')]).mean().reset_index().sort_values('Date')"
   ]
  },
  {
   "cell_type": "code",
   "execution_count": 29,
   "id": "7bc65531",
   "metadata": {},
   "outputs": [
    {
     "data": {
      "text/html": [
       "<div>\n",
       "<style scoped>\n",
       "    .dataframe tbody tr th:only-of-type {\n",
       "        vertical-align: middle;\n",
       "    }\n",
       "\n",
       "    .dataframe tbody tr th {\n",
       "        vertical-align: top;\n",
       "    }\n",
       "\n",
       "    .dataframe thead th {\n",
       "        text-align: right;\n",
       "    }\n",
       "</style>\n",
       "<table border=\"1\" class=\"dataframe\">\n",
       "  <thead>\n",
       "    <tr style=\"text-align: right;\">\n",
       "      <th></th>\n",
       "      <th>Date</th>\n",
       "      <th>Open</th>\n",
       "      <th>High</th>\n",
       "      <th>Low</th>\n",
       "      <th>Close</th>\n",
       "      <th>Adj Close</th>\n",
       "      <th>Volume</th>\n",
       "    </tr>\n",
       "  </thead>\n",
       "  <tbody>\n",
       "    <tr>\n",
       "      <th>0</th>\n",
       "      <td>2014-12-29</td>\n",
       "      <td>27.460000</td>\n",
       "      <td>27.511251</td>\n",
       "      <td>26.595000</td>\n",
       "      <td>26.947500</td>\n",
       "      <td>24.397426</td>\n",
       "      <td>2.349802e+08</td>\n",
       "    </tr>\n",
       "    <tr>\n",
       "      <th>1</th>\n",
       "      <td>2015-01-05</td>\n",
       "      <td>27.412000</td>\n",
       "      <td>27.683000</td>\n",
       "      <td>26.952000</td>\n",
       "      <td>27.358000</td>\n",
       "      <td>24.769084</td>\n",
       "      <td>2.148942e+08</td>\n",
       "    </tr>\n",
       "    <tr>\n",
       "      <th>2</th>\n",
       "      <td>2015-01-12</td>\n",
       "      <td>27.343750</td>\n",
       "      <td>27.558125</td>\n",
       "      <td>26.829375</td>\n",
       "      <td>27.051875</td>\n",
       "      <td>24.491926</td>\n",
       "      <td>2.545758e+08</td>\n",
       "    </tr>\n",
       "    <tr>\n",
       "      <th>3</th>\n",
       "      <td>2015-01-19</td>\n",
       "      <td>27.654500</td>\n",
       "      <td>28.030500</td>\n",
       "      <td>27.441000</td>\n",
       "      <td>27.837500</td>\n",
       "      <td>25.203208</td>\n",
       "      <td>2.034816e+08</td>\n",
       "    </tr>\n",
       "    <tr>\n",
       "      <th>4</th>\n",
       "      <td>2015-01-26</td>\n",
       "      <td>29.141000</td>\n",
       "      <td>29.448001</td>\n",
       "      <td>28.641500</td>\n",
       "      <td>28.957000</td>\n",
       "      <td>26.216769</td>\n",
       "      <td>3.783734e+08</td>\n",
       "    </tr>\n",
       "    <tr>\n",
       "      <th>...</th>\n",
       "      <td>...</td>\n",
       "      <td>...</td>\n",
       "      <td>...</td>\n",
       "      <td>...</td>\n",
       "      <td>...</td>\n",
       "      <td>...</td>\n",
       "      <td>...</td>\n",
       "    </tr>\n",
       "    <tr>\n",
       "      <th>272</th>\n",
       "      <td>2020-03-16</td>\n",
       "      <td>60.496500</td>\n",
       "      <td>62.038999</td>\n",
       "      <td>57.936999</td>\n",
       "      <td>59.896000</td>\n",
       "      <td>59.159392</td>\n",
       "      <td>3.269186e+08</td>\n",
       "    </tr>\n",
       "    <tr>\n",
       "      <th>273</th>\n",
       "      <td>2020-03-23</td>\n",
       "      <td>61.856000</td>\n",
       "      <td>63.800500</td>\n",
       "      <td>61.070500</td>\n",
       "      <td>62.669501</td>\n",
       "      <td>61.898788</td>\n",
       "      <td>2.430827e+08</td>\n",
       "    </tr>\n",
       "    <tr>\n",
       "      <th>274</th>\n",
       "      <td>2020-03-30</td>\n",
       "      <td>61.807000</td>\n",
       "      <td>63.258498</td>\n",
       "      <td>60.819000</td>\n",
       "      <td>62.200500</td>\n",
       "      <td>61.435554</td>\n",
       "      <td>1.741710e+08</td>\n",
       "    </tr>\n",
       "    <tr>\n",
       "      <th>275</th>\n",
       "      <td>2020-04-06</td>\n",
       "      <td>66.909374</td>\n",
       "      <td>67.677502</td>\n",
       "      <td>65.672501</td>\n",
       "      <td>66.671250</td>\n",
       "      <td>65.851320</td>\n",
       "      <td>1.661600e+08</td>\n",
       "    </tr>\n",
       "    <tr>\n",
       "      <th>276</th>\n",
       "      <td>2020-04-13</td>\n",
       "      <td>70.815000</td>\n",
       "      <td>71.898333</td>\n",
       "      <td>70.085833</td>\n",
       "      <td>71.514165</td>\n",
       "      <td>70.634674</td>\n",
       "      <td>1.610915e+08</td>\n",
       "    </tr>\n",
       "  </tbody>\n",
       "</table>\n",
       "<p>277 rows × 7 columns</p>\n",
       "</div>"
      ],
      "text/plain": [
       "          Date       Open       High        Low      Close  Adj Close  \\\n",
       "0   2014-12-29  27.460000  27.511251  26.595000  26.947500  24.397426   \n",
       "1   2015-01-05  27.412000  27.683000  26.952000  27.358000  24.769084   \n",
       "2   2015-01-12  27.343750  27.558125  26.829375  27.051875  24.491926   \n",
       "3   2015-01-19  27.654500  28.030500  27.441000  27.837500  25.203208   \n",
       "4   2015-01-26  29.141000  29.448001  28.641500  28.957000  26.216769   \n",
       "..         ...        ...        ...        ...        ...        ...   \n",
       "272 2020-03-16  60.496500  62.038999  57.936999  59.896000  59.159392   \n",
       "273 2020-03-23  61.856000  63.800500  61.070500  62.669501  61.898788   \n",
       "274 2020-03-30  61.807000  63.258498  60.819000  62.200500  61.435554   \n",
       "275 2020-04-06  66.909374  67.677502  65.672501  66.671250  65.851320   \n",
       "276 2020-04-13  70.815000  71.898333  70.085833  71.514165  70.634674   \n",
       "\n",
       "           Volume  \n",
       "0    2.349802e+08  \n",
       "1    2.148942e+08  \n",
       "2    2.545758e+08  \n",
       "3    2.034816e+08  \n",
       "4    3.783734e+08  \n",
       "..            ...  \n",
       "272  3.269186e+08  \n",
       "273  2.430827e+08  \n",
       "274  1.741710e+08  \n",
       "275  1.661600e+08  \n",
       "276  1.610915e+08  \n",
       "\n",
       "[277 rows x 7 columns]"
      ]
     },
     "execution_count": 29,
     "metadata": {},
     "output_type": "execute_result"
    }
   ],
   "source": [
    "stock_data_weekly_average"
   ]
  },
  {
   "cell_type": "markdown",
   "id": "ffca02b6",
   "metadata": {},
   "source": [
    "### Calculate monthly change"
   ]
  },
  {
   "cell_type": "code",
   "execution_count": 32,
   "id": "76ea010c",
   "metadata": {},
   "outputs": [],
   "source": [
    "stock_data[\"Date\"]=stock_data['Date'].apply(lambda x: dt.datetime.strptime(x[:10], '%Y-%m-%d'))"
   ]
  },
  {
   "cell_type": "code",
   "execution_count": 35,
   "id": "4975c236",
   "metadata": {},
   "outputs": [],
   "source": [
    "monthly_open_prize=stock_data.groupby(pd.Grouper(key='Date', freq='M')).first()['Open']\n",
    "monthly_close_price=stock_data.groupby(pd.Grouper(key='Date', freq='M')).last()['Close']\n",
    "\n",
    "monthly_stock_diff_df=pd.DataFrame(((monthly_close_price-monthly_open_prize)/monthly_open_prize)*100, columns=['price_difference'])"
   ]
  },
  {
   "cell_type": "code",
   "execution_count": 36,
   "id": "52f6746c",
   "metadata": {},
   "outputs": [
    {
     "data": {
      "text/html": [
       "<div>\n",
       "<style scoped>\n",
       "    .dataframe tbody tr th:only-of-type {\n",
       "        vertical-align: middle;\n",
       "    }\n",
       "\n",
       "    .dataframe tbody tr th {\n",
       "        vertical-align: top;\n",
       "    }\n",
       "\n",
       "    .dataframe thead th {\n",
       "        text-align: right;\n",
       "    }\n",
       "</style>\n",
       "<table border=\"1\" class=\"dataframe\">\n",
       "  <thead>\n",
       "    <tr style=\"text-align: right;\">\n",
       "      <th></th>\n",
       "      <th>price_difference</th>\n",
       "    </tr>\n",
       "    <tr>\n",
       "      <th>Date</th>\n",
       "      <th></th>\n",
       "    </tr>\n",
       "  </thead>\n",
       "  <tbody>\n",
       "    <tr>\n",
       "      <th>2015-01-31</th>\n",
       "      <td>5.180002</td>\n",
       "    </tr>\n",
       "    <tr>\n",
       "      <th>2015-02-28</th>\n",
       "      <td>8.818300</td>\n",
       "    </tr>\n",
       "    <tr>\n",
       "      <th>2015-03-31</th>\n",
       "      <td>-3.729207</td>\n",
       "    </tr>\n",
       "    <tr>\n",
       "      <th>2015-04-30</th>\n",
       "      <td>0.264381</td>\n",
       "    </tr>\n",
       "    <tr>\n",
       "      <th>2015-05-31</th>\n",
       "      <td>3.314830</td>\n",
       "    </tr>\n",
       "  </tbody>\n",
       "</table>\n",
       "</div>"
      ],
      "text/plain": [
       "            price_difference\n",
       "Date                        \n",
       "2015-01-31          5.180002\n",
       "2015-02-28          8.818300\n",
       "2015-03-31         -3.729207\n",
       "2015-04-30          0.264381\n",
       "2015-05-31          3.314830"
      ]
     },
     "execution_count": 36,
     "metadata": {},
     "output_type": "execute_result"
    }
   ],
   "source": [
    "monthly_stock_diff_df.head()"
   ]
  },
  {
   "cell_type": "markdown",
   "id": "11055f60",
   "metadata": {},
   "source": [
    "`monthly_stock_diff` displays the monthly price change off the Apple-stock."
   ]
  },
  {
   "cell_type": "markdown",
   "id": "52b64880",
   "metadata": {},
   "source": [
    "## See if there is any correlation between stock and sentiment (Months)"
   ]
  },
  {
   "cell_type": "markdown",
   "id": "26a74cd2",
   "metadata": {},
   "source": [
    "As the `sentiment_monthly_df` use the first date of the next month used to calculate sentiment while `monthly_stock_diff` use the last day of the month used to calculate stock difference we change the date of `sentiment_monthly_df` by one day before merging them."
   ]
  },
  {
   "cell_type": "code",
   "execution_count": 40,
   "id": "47ec572e",
   "metadata": {},
   "outputs": [],
   "source": [
    "sentiment_monthly_df['Date']=sentiment_monthly_df['Date']-DateOffset(days=1)"
   ]
  },
  {
   "cell_type": "code",
   "execution_count": 41,
   "id": "c04b4967",
   "metadata": {},
   "outputs": [
    {
     "data": {
      "text/html": [
       "<div>\n",
       "<style scoped>\n",
       "    .dataframe tbody tr th:only-of-type {\n",
       "        vertical-align: middle;\n",
       "    }\n",
       "\n",
       "    .dataframe tbody tr th {\n",
       "        vertical-align: top;\n",
       "    }\n",
       "\n",
       "    .dataframe thead th {\n",
       "        text-align: right;\n",
       "    }\n",
       "</style>\n",
       "<table border=\"1\" class=\"dataframe\">\n",
       "  <thead>\n",
       "    <tr style=\"text-align: right;\">\n",
       "      <th></th>\n",
       "      <th>Date</th>\n",
       "      <th>Sentiment_score</th>\n",
       "    </tr>\n",
       "  </thead>\n",
       "  <tbody>\n",
       "    <tr>\n",
       "      <th>0</th>\n",
       "      <td>2015-01-31</td>\n",
       "      <td>1142.3663</td>\n",
       "    </tr>\n",
       "    <tr>\n",
       "      <th>1</th>\n",
       "      <td>2015-02-28</td>\n",
       "      <td>788.0255</td>\n",
       "    </tr>\n",
       "    <tr>\n",
       "      <th>2</th>\n",
       "      <td>2015-03-31</td>\n",
       "      <td>1894.8802</td>\n",
       "    </tr>\n",
       "    <tr>\n",
       "      <th>3</th>\n",
       "      <td>2015-04-30</td>\n",
       "      <td>1344.7904</td>\n",
       "    </tr>\n",
       "    <tr>\n",
       "      <th>4</th>\n",
       "      <td>2015-05-31</td>\n",
       "      <td>815.1817</td>\n",
       "    </tr>\n",
       "  </tbody>\n",
       "</table>\n",
       "</div>"
      ],
      "text/plain": [
       "        Date  Sentiment_score\n",
       "0 2015-01-31        1142.3663\n",
       "1 2015-02-28         788.0255\n",
       "2 2015-03-31        1894.8802\n",
       "3 2015-04-30        1344.7904\n",
       "4 2015-05-31         815.1817"
      ]
     },
     "execution_count": 41,
     "metadata": {},
     "output_type": "execute_result"
    }
   ],
   "source": [
    "sentiment_monthly_df.head()"
   ]
  },
  {
   "cell_type": "markdown",
   "id": "58410850",
   "metadata": {},
   "source": [
    " We then plot the development of the stock price and the development of the sentiment to see if there is any obvious relationships between the two."
   ]
  },
  {
   "cell_type": "code",
   "execution_count": 56,
   "id": "4029f537",
   "metadata": {},
   "outputs": [
    {
     "data": {
      "image/png": "[encoded data removed]",
      "text/plain": [
       "<Figure size 720x720 with 2 Axes>"
      ]
     },
     "metadata": {
      "needs_background": "light"
     },
     "output_type": "display_data"
    }
   ],
   "source": [
    "fig, (ax1, ax2) = plt.subplots(2, 1, sharex=True, figsize=(10,10))\n",
    "ax1.plot(stock_data_weekly_average.Date, stock_data_weekly_average.Close, label='Apple stock')\n",
    "ax1.set_ylabel('Stock closing price ($)', size=18)\n",
    "ax1.scatter(apple_event_and_stock_data.Date, apple_event_and_stock_data.Close, c='r', s=100, zorder=3, label='Apple events')\n",
    "ax1.scatter(apple_earnings_and_stock_data.Date, apple_earnings_and_stock_data.Close, c='g', s=100, zorder=3, label='Apple earnings date')\n",
    "ax1.legend(prop={'size': 25})\n",
    "\n",
    "ax2.plot(sentiment_monthly_df.Date, sentiment_monthly_df.Sentiment_score, color='green')\n",
    "ax2.set_ylabel('Aggregated sentiment intensity score', fontsize=18)\n",
    "plt.show();"
   ]
  },
  {
   "cell_type": "markdown",
   "id": "a8430868",
   "metadata": {},
   "source": [
    " By just looking at the graphs it is hard to tell if the sentiment and the stock price is related in any way. We therefore tries to merge the two dataframes by the Date-column to further explore the relationships between the sentiment and price."
   ]
  },
  {
   "cell_type": "code",
   "execution_count": 58,
   "id": "96fa2427",
   "metadata": {},
   "outputs": [],
   "source": [
    "stock_price_sentiment = pd.merge(monthly_stock_diff_df, sentiment_monthly_df, how='inner', on = 'Date')"
   ]
  },
  {
   "cell_type": "code",
   "execution_count": 59,
   "id": "26c30a49",
   "metadata": {},
   "outputs": [
    {
     "data": {
      "text/html": [
       "<div>\n",
       "<style scoped>\n",
       "    .dataframe tbody tr th:only-of-type {\n",
       "        vertical-align: middle;\n",
       "    }\n",
       "\n",
       "    .dataframe tbody tr th {\n",
       "        vertical-align: top;\n",
       "    }\n",
       "\n",
       "    .dataframe thead th {\n",
       "        text-align: right;\n",
       "    }\n",
       "</style>\n",
       "<table border=\"1\" class=\"dataframe\">\n",
       "  <thead>\n",
       "    <tr style=\"text-align: right;\">\n",
       "      <th></th>\n",
       "      <th>Date</th>\n",
       "      <th>price_difference</th>\n",
       "      <th>Sentiment_score</th>\n",
       "    </tr>\n",
       "  </thead>\n",
       "  <tbody>\n",
       "    <tr>\n",
       "      <th>0</th>\n",
       "      <td>2015-01-31</td>\n",
       "      <td>5.180002</td>\n",
       "      <td>1142.3663</td>\n",
       "    </tr>\n",
       "    <tr>\n",
       "      <th>1</th>\n",
       "      <td>2015-02-28</td>\n",
       "      <td>8.818300</td>\n",
       "      <td>788.0255</td>\n",
       "    </tr>\n",
       "    <tr>\n",
       "      <th>2</th>\n",
       "      <td>2015-03-31</td>\n",
       "      <td>-3.729207</td>\n",
       "      <td>1894.8802</td>\n",
       "    </tr>\n",
       "    <tr>\n",
       "      <th>3</th>\n",
       "      <td>2015-04-30</td>\n",
       "      <td>0.264381</td>\n",
       "      <td>1344.7904</td>\n",
       "    </tr>\n",
       "    <tr>\n",
       "      <th>4</th>\n",
       "      <td>2015-05-31</td>\n",
       "      <td>3.314830</td>\n",
       "      <td>815.1817</td>\n",
       "    </tr>\n",
       "  </tbody>\n",
       "</table>\n",
       "</div>"
      ],
      "text/plain": [
       "        Date  price_difference  Sentiment_score\n",
       "0 2015-01-31          5.180002        1142.3663\n",
       "1 2015-02-28          8.818300         788.0255\n",
       "2 2015-03-31         -3.729207        1894.8802\n",
       "3 2015-04-30          0.264381        1344.7904\n",
       "4 2015-05-31          3.314830         815.1817"
      ]
     },
     "execution_count": 59,
     "metadata": {},
     "output_type": "execute_result"
    }
   ],
   "source": [
    "stock_price_sentiment.head()"
   ]
  },
  {
   "cell_type": "code",
   "execution_count": 66,
   "id": "407985d5",
   "metadata": {},
   "outputs": [
    {
     "data": {
      "text/plain": [
       "Text(0, 0.5, 'Sentiment score')"
      ]
     },
     "execution_count": 66,
     "metadata": {},
     "output_type": "execute_result"
    },
    {
     "data": {
      "image/png": "[encoded data removed]",
      "text/plain": [
       "<Figure size 1440x720 with 1 Axes>"
      ]
     },
     "metadata": {
      "needs_background": "light"
     },
     "output_type": "display_data"
    }
   ],
   "source": [
    "fig, ax=plt.subplots(figsize=(20,10))\n",
    "sns.set_theme(style='white', rc={'axes.spines.right': False, 'axes.spines.top': False}, font_scale=2)\n",
    "sns.set(font_scale=2)\n",
    "ax=sns.regplot(x=stock_price_sentiment.price_difference, y=stock_price_sentiment.Sentiment_score)\n",
    "ax.set_xlabel('Price difference from start to end of a month (%)', size=18)\n",
    "ax.set_ylabel('Sentiment score', size=18)"
   ]
  },
  {
   "cell_type": "markdown",
   "id": "c07545f8",
   "metadata": {},
   "source": [
    "By looking at the correlation between the stock price and the sentiment score we see a slightly positive relationship. From this it might seem that in months where the Apple stock gets a lot of postive media attention the stock is more likely to rise. However these findings are not very useful when trying to predict future stock prices because we would not know the sentiment before the end of the month."
   ]
  },
  {
   "cell_type": "markdown",
   "id": "95dd18d4",
   "metadata": {},
   "source": [
    "## Stock predicting model"
   ]
  },
  {
   "cell_type": "markdown",
   "id": "7023ef02",
   "metadata": {},
   "source": [
    "We see a slightly positive relationship by looking at the correlation between the stock price and the sentiment score. From this it might seem that in months where the Apple stock gets a lot of positive media attention it is more likely to rise. However these findings are not very useful when predicting future stock prices because we would not know the sentiment before the end of the month."
   ]
  },
  {
   "cell_type": "code",
   "execution_count": 69,
   "id": "832a7e3f",
   "metadata": {},
   "outputs": [],
   "source": [
    "\n",
    "sentiment_shifted_back_df=sentiment_monthly_df.copy()\n",
    "\n",
    "#Shifts the date one month back in time\n",
    "sentiment_shifted_back_df['Date']=sentiment_shifted_back_df['Date']-DateOffset(months=1, days=5)+MonthEnd(1)\n",
    "\n",
    "#Merge the sentiment_shifted_df with the monthly_stock_diff_df. Each row then represent the sentiment for previous month\n",
    "#and the stock_price for this month\n",
    "stock_price_shifted_back_sentiment=pd.merge(monthly_stock_diff_df, sentiment_shifted_back_df, how='inner', on = 'Date')"
   ]
  },
  {
   "cell_type": "markdown",
   "id": "f3b2b701",
   "metadata": {},
   "source": [
    "As we can see from the graph the relationship between the sentiment for the previous month and the price for this month is negative. This correlation is the opposite of what we found for the graph plotting sentiment and stock price for the same month. Based on this we can expect that a stock is more likely to increase in price following a month where we have seen a low sentiment score and vice versa. One explanation for this is that people may sell after a month with increased stock prices to secure profits. Thus the following month even though a stock gets good media attention it will fall."
   ]
  },
  {
   "cell_type": "code",
   "execution_count": 70,
   "id": "b707e4a4",
   "metadata": {},
   "outputs": [
    {
     "data": {
      "text/html": [
       "<div>\n",
       "<style scoped>\n",
       "    .dataframe tbody tr th:only-of-type {\n",
       "        vertical-align: middle;\n",
       "    }\n",
       "\n",
       "    .dataframe tbody tr th {\n",
       "        vertical-align: top;\n",
       "    }\n",
       "\n",
       "    .dataframe thead th {\n",
       "        text-align: right;\n",
       "    }\n",
       "</style>\n",
       "<table border=\"1\" class=\"dataframe\">\n",
       "  <thead>\n",
       "    <tr style=\"text-align: right;\">\n",
       "      <th></th>\n",
       "      <th>Date</th>\n",
       "      <th>price_difference</th>\n",
       "      <th>Sentiment_score</th>\n",
       "    </tr>\n",
       "  </thead>\n",
       "  <tbody>\n",
       "    <tr>\n",
       "      <th>0</th>\n",
       "      <td>2015-01-31</td>\n",
       "      <td>5.180002</td>\n",
       "      <td>788.0255</td>\n",
       "    </tr>\n",
       "    <tr>\n",
       "      <th>1</th>\n",
       "      <td>2015-02-28</td>\n",
       "      <td>8.818300</td>\n",
       "      <td>1894.8802</td>\n",
       "    </tr>\n",
       "    <tr>\n",
       "      <th>2</th>\n",
       "      <td>2015-03-31</td>\n",
       "      <td>-3.729207</td>\n",
       "      <td>1344.7904</td>\n",
       "    </tr>\n",
       "    <tr>\n",
       "      <th>3</th>\n",
       "      <td>2015-04-30</td>\n",
       "      <td>0.264381</td>\n",
       "      <td>815.1817</td>\n",
       "    </tr>\n",
       "    <tr>\n",
       "      <th>4</th>\n",
       "      <td>2015-05-31</td>\n",
       "      <td>3.314830</td>\n",
       "      <td>1326.5021</td>\n",
       "    </tr>\n",
       "    <tr>\n",
       "      <th>...</th>\n",
       "      <td>...</td>\n",
       "      <td>...</td>\n",
       "      <td>...</td>\n",
       "    </tr>\n",
       "    <tr>\n",
       "      <th>57</th>\n",
       "      <td>2019-10-31</td>\n",
       "      <td>10.525609</td>\n",
       "      <td>875.8196</td>\n",
       "    </tr>\n",
       "    <tr>\n",
       "      <th>58</th>\n",
       "      <td>2019-11-30</td>\n",
       "      <td>7.097062</td>\n",
       "      <td>435.4783</td>\n",
       "    </tr>\n",
       "    <tr>\n",
       "      <th>59</th>\n",
       "      <td>2019-12-31</td>\n",
       "      <td>9.870171</td>\n",
       "      <td>778.2848</td>\n",
       "    </tr>\n",
       "    <tr>\n",
       "      <th>60</th>\n",
       "      <td>2020-01-31</td>\n",
       "      <td>4.479482</td>\n",
       "      <td>337.1790</td>\n",
       "    </tr>\n",
       "    <tr>\n",
       "      <th>61</th>\n",
       "      <td>2020-02-29</td>\n",
       "      <td>-10.167599</td>\n",
       "      <td>508.4517</td>\n",
       "    </tr>\n",
       "  </tbody>\n",
       "</table>\n",
       "<p>62 rows × 3 columns</p>\n",
       "</div>"
      ],
      "text/plain": [
       "         Date  price_difference  Sentiment_score\n",
       "0  2015-01-31          5.180002         788.0255\n",
       "1  2015-02-28          8.818300        1894.8802\n",
       "2  2015-03-31         -3.729207        1344.7904\n",
       "3  2015-04-30          0.264381         815.1817\n",
       "4  2015-05-31          3.314830        1326.5021\n",
       "..        ...               ...              ...\n",
       "57 2019-10-31         10.525609         875.8196\n",
       "58 2019-11-30          7.097062         435.4783\n",
       "59 2019-12-31          9.870171         778.2848\n",
       "60 2020-01-31          4.479482         337.1790\n",
       "61 2020-02-29        -10.167599         508.4517\n",
       "\n",
       "[62 rows x 3 columns]"
      ]
     },
     "execution_count": 70,
     "metadata": {},
     "output_type": "execute_result"
    }
   ],
   "source": [
    "stock_price_shifted_back_sentiment"
   ]
  },
  {
   "cell_type": "markdown",
   "id": "7f2b72d8",
   "metadata": {},
   "source": [
    "#### Want to see if plotting a boxplot gives some new foundings"
   ]
  },
  {
   "cell_type": "code",
   "execution_count": 72,
   "id": "3f1421f1",
   "metadata": {},
   "outputs": [],
   "source": [
    "#stock_price_shifted_back_sentiment[\\A\\]=stock_price_shifted_back_sentiment.groupby(stock_price_shifted_back_sentiment[\\price_difference\\] np.arange(-20 5 15))\n",
    "stock_price_shifted_back_sentiment['Category']=0\n",
    "\n",
    "stock_price_shifted_back_sentiment.loc[stock_price_shifted_back_sentiment['price_difference']<=-15, 'Category'] = 1\n",
    "stock_price_shifted_back_sentiment.loc[stock_price_shifted_back_sentiment['price_difference'].between(-15,-10), 'Category'] = 2\n",
    "stock_price_shifted_back_sentiment.loc[stock_price_shifted_back_sentiment['price_difference'].between(-10,-5), 'Category'] = 3\n",
    "stock_price_shifted_back_sentiment.loc[stock_price_shifted_back_sentiment['price_difference'].between(-5,0), 'Category'] = 4\n",
    "stock_price_shifted_back_sentiment.loc[stock_price_shifted_back_sentiment['price_difference'].between(0,5), 'Category'] = 5\n",
    "stock_price_shifted_back_sentiment.loc[stock_price_shifted_back_sentiment['price_difference'].between(5,10), 'Category'] = 6\n",
    "stock_price_shifted_back_sentiment.loc[stock_price_shifted_back_sentiment['price_difference'].between(10,15), 'Category'] = 7\n",
    "stock_price_shifted_back_sentiment.loc[stock_price_shifted_back_sentiment['price_difference']>=15, 'Category'] = 8\n",
    "\n",
    "\n",
    "#stock_price_shifted_back_sentiment.groupby([stock_price_shifted_back_sentiment.Sentiment_scorepd.cut(stock_price_shifted_back_sentiment.price_difference[-20-15-10-505101520])])\n",
    "#ax = sns.boxplot(x=\\ahsha\\ y=\\Sentiment_score\\ data=grouped)"
   ]
  },
  {
   "cell_type": "code",
   "execution_count": 74,
   "id": "429f5268",
   "metadata": {},
   "outputs": [
    {
     "data": {
      "image/png": "[encoded data removed]",
      "text/plain": [
       "<Figure size 1080x576 with 1 Axes>"
      ]
     },
     "metadata": {},
     "output_type": "display_data"
    }
   ],
   "source": [
    "fig, ax = plt.subplots(figsize=(15,8))\n",
    "sns.set(font_scale=2)\n",
    "sns.set_theme(style='white', rc={'axes.spines.right': False, 'axes.spines.top': False}, font_scale=2)\n",
    "plot=sns.boxplot(x='Category', y='Sentiment_score', data=stock_price_shifted_back_sentiment, hue='Category', saturation=0.5)\n",
    "plt.legend([],[], frameon=False)           \n",
    "ax.set_ylabel('Sentiment score')\n",
    "ax.set_xlabel('Price difference')\n",
    "positions = (0, 1, 2, 3, 4, 5, 6,)\n",
    "labels = ('x < -15', '-15 < x < -10', '-10 < x < -5', '-5 < x < 0', '0 < x < 5', '5 < x < 10', '10 < x < 15')\n",
    "plt.xticks(positions, labels, rotation=40);"
   ]
  },
  {
   "cell_type": "markdown",
   "id": "92cfe455",
   "metadata": {},
   "source": [
    "### Are stock pickers just to late to the party?"
   ]
  },
  {
   "cell_type": "markdown",
   "id": "adbcf5c6",
   "metadata": {},
   "source": [
    " As we have seen above the apple stock tend to fall the month following one with high sentiment scores. Another interesting question to look into is if a stock rises more before it gets all the media i.e. that people just hear the good news when it is already to late. Therefore we want to see the correlation between the stock price and its sentiment score the following month."
   ]
  },
  {
   "cell_type": "code",
   "execution_count": 75,
   "id": "f5c10890",
   "metadata": {},
   "outputs": [
    {
     "data": {
      "text/html": [
       "<div>\n",
       "<style scoped>\n",
       "    .dataframe tbody tr th:only-of-type {\n",
       "        vertical-align: middle;\n",
       "    }\n",
       "\n",
       "    .dataframe tbody tr th {\n",
       "        vertical-align: top;\n",
       "    }\n",
       "\n",
       "    .dataframe thead th {\n",
       "        text-align: right;\n",
       "    }\n",
       "</style>\n",
       "<table border=\"1\" class=\"dataframe\">\n",
       "  <thead>\n",
       "    <tr style=\"text-align: right;\">\n",
       "      <th></th>\n",
       "      <th>Date</th>\n",
       "      <th>Sentiment_score</th>\n",
       "    </tr>\n",
       "  </thead>\n",
       "  <tbody>\n",
       "    <tr>\n",
       "      <th>0</th>\n",
       "      <td>2015-01-31</td>\n",
       "      <td>1142.3663</td>\n",
       "    </tr>\n",
       "    <tr>\n",
       "      <th>1</th>\n",
       "      <td>2015-02-28</td>\n",
       "      <td>788.0255</td>\n",
       "    </tr>\n",
       "    <tr>\n",
       "      <th>2</th>\n",
       "      <td>2015-03-31</td>\n",
       "      <td>1894.8802</td>\n",
       "    </tr>\n",
       "    <tr>\n",
       "      <th>3</th>\n",
       "      <td>2015-04-30</td>\n",
       "      <td>1344.7904</td>\n",
       "    </tr>\n",
       "    <tr>\n",
       "      <th>4</th>\n",
       "      <td>2015-05-31</td>\n",
       "      <td>815.1817</td>\n",
       "    </tr>\n",
       "    <tr>\n",
       "      <th>...</th>\n",
       "      <td>...</td>\n",
       "      <td>...</td>\n",
       "    </tr>\n",
       "    <tr>\n",
       "      <th>58</th>\n",
       "      <td>2019-11-30</td>\n",
       "      <td>875.8196</td>\n",
       "    </tr>\n",
       "    <tr>\n",
       "      <th>59</th>\n",
       "      <td>2019-12-31</td>\n",
       "      <td>435.4783</td>\n",
       "    </tr>\n",
       "    <tr>\n",
       "      <th>60</th>\n",
       "      <td>2020-01-31</td>\n",
       "      <td>778.2848</td>\n",
       "    </tr>\n",
       "    <tr>\n",
       "      <th>61</th>\n",
       "      <td>2020-02-29</td>\n",
       "      <td>337.1790</td>\n",
       "    </tr>\n",
       "    <tr>\n",
       "      <th>62</th>\n",
       "      <td>2020-03-31</td>\n",
       "      <td>508.4517</td>\n",
       "    </tr>\n",
       "  </tbody>\n",
       "</table>\n",
       "<p>63 rows × 2 columns</p>\n",
       "</div>"
      ],
      "text/plain": [
       "         Date  Sentiment_score\n",
       "0  2015-01-31        1142.3663\n",
       "1  2015-02-28         788.0255\n",
       "2  2015-03-31        1894.8802\n",
       "3  2015-04-30        1344.7904\n",
       "4  2015-05-31         815.1817\n",
       "..        ...              ...\n",
       "58 2019-11-30         875.8196\n",
       "59 2019-12-31         435.4783\n",
       "60 2020-01-31         778.2848\n",
       "61 2020-02-29         337.1790\n",
       "62 2020-03-31         508.4517\n",
       "\n",
       "[63 rows x 2 columns]"
      ]
     },
     "execution_count": 75,
     "metadata": {},
     "output_type": "execute_result"
    }
   ],
   "source": [
    "sentiment_shifted_forward_df=sentiment_monthly_df.copy()\n",
    "sentiment_shifted_forward_df"
   ]
  },
  {
   "cell_type": "code",
   "execution_count": 77,
   "id": "8de1f280",
   "metadata": {},
   "outputs": [],
   "source": [
    "#Shifts the date one month forwards\n",
    "sentiment_shifted_forward_df['Date']=sentiment_shifted_forward_df['Date']+DateOffset(days=5)+MonthEnd(1)"
   ]
  },
  {
   "cell_type": "code",
   "execution_count": 79,
   "id": "bd7be31a",
   "metadata": {},
   "outputs": [],
   "source": [
    "stock_price_shifted_forward_sentiment=pd.merge(monthly_stock_diff_df, sentiment_shifted_forward_df, how='inner', on = 'Date')"
   ]
  },
  {
   "cell_type": "code",
   "execution_count": 81,
   "id": "2eddc568",
   "metadata": {},
   "outputs": [
    {
     "data": {
      "image/png": "[encoded data removed]",
      "text/plain": [
       "<Figure size 1440x720 with 1 Axes>"
      ]
     },
     "metadata": {},
     "output_type": "display_data"
    }
   ],
   "source": [
    "fig, ax=plt.subplots(figsize=(20,10))\n",
    "ax=sns.regplot(x=stock_price_shifted_forward_sentiment.price_difference, y=stock_price_shifted_forward_sentiment.Sentiment_score)\n",
    "ax.set_xlabel('Price difference from start to end of a month (%)', size=18)\n",
    "ax.set_ylabel('Sentiment score for next month', size=18);"
   ]
  },
  {
   "cell_type": "markdown",
   "id": "d0302f29",
   "metadata": {},
   "source": [
    "## Stock Volume and sentiment"
   ]
  },
  {
   "cell_type": "markdown",
   "id": "eff05cd6",
   "metadata": {},
   "source": [
    "Average stock volume for each month."
   ]
  },
  {
   "cell_type": "code",
   "execution_count": 83,
   "id": "2b027a82",
   "metadata": {},
   "outputs": [],
   "source": [
    "monthly_stock_mean=stock_data.groupby(pd.Grouper(key='Date', freq='M')).mean()"
   ]
  },
  {
   "cell_type": "code",
   "execution_count": 84,
   "id": "3c91f232",
   "metadata": {},
   "outputs": [],
   "source": [
    "stock_mean_sentiment = pd.merge(monthly_stock_mean, sentiment_monthly_df, how='inner', on = 'Date')"
   ]
  },
  {
   "cell_type": "code",
   "execution_count": 85,
   "id": "238a80dd",
   "metadata": {},
   "outputs": [
    {
     "data": {
      "text/html": [
       "<div>\n",
       "<style scoped>\n",
       "    .dataframe tbody tr th:only-of-type {\n",
       "        vertical-align: middle;\n",
       "    }\n",
       "\n",
       "    .dataframe tbody tr th {\n",
       "        vertical-align: top;\n",
       "    }\n",
       "\n",
       "    .dataframe thead th {\n",
       "        text-align: right;\n",
       "    }\n",
       "</style>\n",
       "<table border=\"1\" class=\"dataframe\">\n",
       "  <thead>\n",
       "    <tr style=\"text-align: right;\">\n",
       "      <th></th>\n",
       "      <th>Date</th>\n",
       "      <th>Open</th>\n",
       "      <th>High</th>\n",
       "      <th>Low</th>\n",
       "      <th>Close</th>\n",
       "      <th>Adj Close</th>\n",
       "      <th>Volume</th>\n",
       "      <th>Sentiment_score</th>\n",
       "    </tr>\n",
       "  </thead>\n",
       "  <tbody>\n",
       "    <tr>\n",
       "      <th>0</th>\n",
       "      <td>2015-01-31</td>\n",
       "      <td>27.791000</td>\n",
       "      <td>28.063500</td>\n",
       "      <td>27.333000</td>\n",
       "      <td>27.660375</td>\n",
       "      <td>25.042844</td>\n",
       "      <td>2.610527e+08</td>\n",
       "      <td>1142.3663</td>\n",
       "    </tr>\n",
       "    <tr>\n",
       "      <th>1</th>\n",
       "      <td>2015-02-28</td>\n",
       "      <td>31.255921</td>\n",
       "      <td>31.536185</td>\n",
       "      <td>31.007763</td>\n",
       "      <td>31.358026</td>\n",
       "      <td>28.485852</td>\n",
       "      <td>2.392706e+08</td>\n",
       "      <td>788.0255</td>\n",
       "    </tr>\n",
       "    <tr>\n",
       "      <th>2</th>\n",
       "      <td>2015-03-31</td>\n",
       "      <td>31.616591</td>\n",
       "      <td>31.859091</td>\n",
       "      <td>31.246477</td>\n",
       "      <td>31.492727</td>\n",
       "      <td>28.625065</td>\n",
       "      <td>2.070258e+08</td>\n",
       "      <td>1894.8802</td>\n",
       "    </tr>\n",
       "    <tr>\n",
       "      <th>3</th>\n",
       "      <td>2015-04-30</td>\n",
       "      <td>31.883810</td>\n",
       "      <td>32.105595</td>\n",
       "      <td>31.556191</td>\n",
       "      <td>31.822857</td>\n",
       "      <td>28.925133</td>\n",
       "      <td>1.897401e+08</td>\n",
       "      <td>1344.7904</td>\n",
       "    </tr>\n",
       "    <tr>\n",
       "      <th>4</th>\n",
       "      <td>2015-05-31</td>\n",
       "      <td>32.176875</td>\n",
       "      <td>32.442750</td>\n",
       "      <td>31.915750</td>\n",
       "      <td>32.190375</td>\n",
       "      <td>29.357273</td>\n",
       "      <td>1.908304e+08</td>\n",
       "      <td>815.1817</td>\n",
       "    </tr>\n",
       "    <tr>\n",
       "      <th>...</th>\n",
       "      <td>...</td>\n",
       "      <td>...</td>\n",
       "      <td>...</td>\n",
       "      <td>...</td>\n",
       "      <td>...</td>\n",
       "      <td>...</td>\n",
       "      <td>...</td>\n",
       "      <td>...</td>\n",
       "    </tr>\n",
       "    <tr>\n",
       "      <th>58</th>\n",
       "      <td>2019-11-30</td>\n",
       "      <td>65.423499</td>\n",
       "      <td>65.865375</td>\n",
       "      <td>65.060500</td>\n",
       "      <td>65.630126</td>\n",
       "      <td>64.631631</td>\n",
       "      <td>8.966630e+07</td>\n",
       "      <td>875.8196</td>\n",
       "    </tr>\n",
       "    <tr>\n",
       "      <th>59</th>\n",
       "      <td>2019-12-31</td>\n",
       "      <td>68.847857</td>\n",
       "      <td>69.470952</td>\n",
       "      <td>68.467024</td>\n",
       "      <td>69.131428</td>\n",
       "      <td>68.119577</td>\n",
       "      <td>1.137521e+08</td>\n",
       "      <td>435.4783</td>\n",
       "    </tr>\n",
       "    <tr>\n",
       "      <th>60</th>\n",
       "      <td>2020-01-31</td>\n",
       "      <td>77.792738</td>\n",
       "      <td>78.581547</td>\n",
       "      <td>77.207857</td>\n",
       "      <td>77.979048</td>\n",
       "      <td>76.837697</td>\n",
       "      <td>1.397319e+08</td>\n",
       "      <td>778.2848</td>\n",
       "    </tr>\n",
       "    <tr>\n",
       "      <th>61</th>\n",
       "      <td>2020-02-29</td>\n",
       "      <td>77.578421</td>\n",
       "      <td>78.813158</td>\n",
       "      <td>76.681579</td>\n",
       "      <td>77.817631</td>\n",
       "      <td>76.821414</td>\n",
       "      <td>1.589094e+08</td>\n",
       "      <td>337.1790</td>\n",
       "    </tr>\n",
       "    <tr>\n",
       "      <th>62</th>\n",
       "      <td>2020-03-31</td>\n",
       "      <td>65.268410</td>\n",
       "      <td>67.423181</td>\n",
       "      <td>63.711591</td>\n",
       "      <td>65.611023</td>\n",
       "      <td>64.804132</td>\n",
       "      <td>2.854578e+08</td>\n",
       "      <td>508.4517</td>\n",
       "    </tr>\n",
       "  </tbody>\n",
       "</table>\n",
       "<p>63 rows × 8 columns</p>\n",
       "</div>"
      ],
      "text/plain": [
       "         Date       Open       High        Low      Close  Adj Close  \\\n",
       "0  2015-01-31  27.791000  28.063500  27.333000  27.660375  25.042844   \n",
       "1  2015-02-28  31.255921  31.536185  31.007763  31.358026  28.485852   \n",
       "2  2015-03-31  31.616591  31.859091  31.246477  31.492727  28.625065   \n",
       "3  2015-04-30  31.883810  32.105595  31.556191  31.822857  28.925133   \n",
       "4  2015-05-31  32.176875  32.442750  31.915750  32.190375  29.357273   \n",
       "..        ...        ...        ...        ...        ...        ...   \n",
       "58 2019-11-30  65.423499  65.865375  65.060500  65.630126  64.631631   \n",
       "59 2019-12-31  68.847857  69.470952  68.467024  69.131428  68.119577   \n",
       "60 2020-01-31  77.792738  78.581547  77.207857  77.979048  76.837697   \n",
       "61 2020-02-29  77.578421  78.813158  76.681579  77.817631  76.821414   \n",
       "62 2020-03-31  65.268410  67.423181  63.711591  65.611023  64.804132   \n",
       "\n",
       "          Volume  Sentiment_score  \n",
       "0   2.610527e+08        1142.3663  \n",
       "1   2.392706e+08         788.0255  \n",
       "2   2.070258e+08        1894.8802  \n",
       "3   1.897401e+08        1344.7904  \n",
       "4   1.908304e+08         815.1817  \n",
       "..           ...              ...  \n",
       "58  8.966630e+07         875.8196  \n",
       "59  1.137521e+08         435.4783  \n",
       "60  1.397319e+08         778.2848  \n",
       "61  1.589094e+08         337.1790  \n",
       "62  2.854578e+08         508.4517  \n",
       "\n",
       "[63 rows x 8 columns]"
      ]
     },
     "execution_count": 85,
     "metadata": {},
     "output_type": "execute_result"
    }
   ],
   "source": [
    "stock_mean_sentiment"
   ]
  },
  {
   "cell_type": "code",
   "execution_count": 86,
   "id": "3c081155",
   "metadata": {},
   "outputs": [
    {
     "data": {
      "image/png": "[encoded data removed]",
      "text/plain": [
       "<Figure size 1440x720 with 1 Axes>"
      ]
     },
     "metadata": {},
     "output_type": "display_data"
    }
   ],
   "source": [
    "fig, ax=plt.subplots(figsize=(20,10))\n",
    "ax=sns.regplot(x=stock_mean_sentiment.Volume, y=stock_mean_sentiment.Sentiment_score)\n",
    "ax.set_xlabel('Trading volume', size=18)\n",
    "ax.set_ylabel('Sentiment score', size=18);"
   ]
  },
  {
   "cell_type": "markdown",
   "id": "e4ab692a",
   "metadata": {},
   "source": [
    "### Stock Volume and sentiment score for previous month"
   ]
  },
  {
   "cell_type": "markdown",
   "id": "66b4fe4e",
   "metadata": {},
   "source": [
    "**TODO:** Discuss how useful this plots might be for the datastory. Nothing special to see"
   ]
  },
  {
   "cell_type": "code",
   "execution_count": 90,
   "id": "49627591",
   "metadata": {},
   "outputs": [
    {
     "ename": "NameError",
     "evalue": "name 'sentiment_shifted_df' is not defined",
     "output_type": "error",
     "traceback": [
      "\u001b[0;31m---------------------------------------------------------------------------\u001b[0m",
      "\u001b[0;31mNameError\u001b[0m                                 Traceback (most recent call last)",
      "\u001b[0;32m/var/folders/pc/5ytjzw0165n86jc4_pv2802c0000gn/T/ipykernel_63921/1601012550.py\u001b[0m in \u001b[0;36m<module>\u001b[0;34m\u001b[0m\n\u001b[0;32m----> 1\u001b[0;31m \u001b[0mstock_mean_sentiment_shifted\u001b[0m \u001b[0;34m=\u001b[0m \u001b[0mpd\u001b[0m\u001b[0;34m.\u001b[0m\u001b[0mmerge\u001b[0m\u001b[0;34m(\u001b[0m\u001b[0mmonthly_stock_mean\u001b[0m\u001b[0;34m,\u001b[0m \u001b[0msentiment_shifted_df\u001b[0m\u001b[0;34m,\u001b[0m \u001b[0mhow\u001b[0m\u001b[0;34m=\u001b[0m\u001b[0;34m'inner'\u001b[0m\u001b[0;34m,\u001b[0m \u001b[0mon\u001b[0m \u001b[0;34m=\u001b[0m \u001b[0;34m'Date'\u001b[0m\u001b[0;34m)\u001b[0m\u001b[0;34m\u001b[0m\u001b[0;34m\u001b[0m\u001b[0m\n\u001b[0m",
      "\u001b[0;31mNameError\u001b[0m: name 'sentiment_shifted_df' is not defined"
     ]
    }
   ],
   "source": [
    "stock_mean_sentiment_shifted = pd.merge(monthly_stock_mean, sentiment_shifted_df, how='inner', on = 'Date')"
   ]
  },
  {
   "cell_type": "code",
   "execution_count": 91,
   "id": "69f003f7",
   "metadata": {},
   "outputs": [
    {
     "ename": "NameError",
     "evalue": "name 'stock_mean_sentiment_shifted' is not defined",
     "output_type": "error",
     "traceback": [
      "\u001b[0;31m---------------------------------------------------------------------------\u001b[0m",
      "\u001b[0;31mNameError\u001b[0m                                 Traceback (most recent call last)",
      "\u001b[0;32m/var/folders/pc/5ytjzw0165n86jc4_pv2802c0000gn/T/ipykernel_63921/1207046448.py\u001b[0m in \u001b[0;36m<module>\u001b[0;34m\u001b[0m\n\u001b[0;32m----> 1\u001b[0;31m \u001b[0mstock_mean_sentiment_shifted\u001b[0m\u001b[0;34m\u001b[0m\u001b[0;34m\u001b[0m\u001b[0m\n\u001b[0m",
      "\u001b[0;31mNameError\u001b[0m: name 'stock_mean_sentiment_shifted' is not defined"
     ]
    }
   ],
   "source": [
    "stock_mean_sentiment_shifted"
   ]
  },
  {
   "cell_type": "code",
   "execution_count": 93,
   "id": "1df7cd99",
   "metadata": {},
   "outputs": [
    {
     "ename": "NameError",
     "evalue": "name 'stock_mean_sentiment_shifted' is not defined",
     "output_type": "error",
     "traceback": [
      "\u001b[0;31m---------------------------------------------------------------------------\u001b[0m",
      "\u001b[0;31mNameError\u001b[0m                                 Traceback (most recent call last)",
      "\u001b[0;32m/var/folders/pc/5ytjzw0165n86jc4_pv2802c0000gn/T/ipykernel_63921/2067909591.py\u001b[0m in \u001b[0;36m<module>\u001b[0;34m\u001b[0m\n\u001b[1;32m      1\u001b[0m \u001b[0mfig\u001b[0m\u001b[0;34m,\u001b[0m \u001b[0max\u001b[0m\u001b[0;34m=\u001b[0m\u001b[0mplt\u001b[0m\u001b[0;34m.\u001b[0m\u001b[0msubplots\u001b[0m\u001b[0;34m(\u001b[0m\u001b[0mfigsize\u001b[0m\u001b[0;34m=\u001b[0m\u001b[0;34m(\u001b[0m\u001b[0;36m20\u001b[0m\u001b[0;34m,\u001b[0m\u001b[0;36m10\u001b[0m\u001b[0;34m)\u001b[0m\u001b[0;34m)\u001b[0m\u001b[0;34m\u001b[0m\u001b[0;34m\u001b[0m\u001b[0m\n\u001b[0;32m----> 2\u001b[0;31m \u001b[0max\u001b[0m\u001b[0;34m=\u001b[0m\u001b[0msns\u001b[0m\u001b[0;34m.\u001b[0m\u001b[0mregplot\u001b[0m\u001b[0;34m(\u001b[0m\u001b[0mx\u001b[0m\u001b[0;34m=\u001b[0m\u001b[0mstock_mean_sentiment_shifted\u001b[0m\u001b[0;34m.\u001b[0m\u001b[0mVolume\u001b[0m\u001b[0;34m,\u001b[0m \u001b[0my\u001b[0m\u001b[0;34m=\u001b[0m\u001b[0mstock_mean_sentiment_shifted\u001b[0m\u001b[0;34m.\u001b[0m\u001b[0mSentiment_score\u001b[0m\u001b[0;34m)\u001b[0m\u001b[0;34m\u001b[0m\u001b[0;34m\u001b[0m\u001b[0m\n\u001b[0m\u001b[1;32m      3\u001b[0m \u001b[0max\u001b[0m\u001b[0;34m.\u001b[0m\u001b[0mset_xlabel\u001b[0m\u001b[0;34m(\u001b[0m\u001b[0;34m'Trading volume'\u001b[0m\u001b[0;34m,\u001b[0m \u001b[0msize\u001b[0m\u001b[0;34m=\u001b[0m\u001b[0;36m18\u001b[0m\u001b[0;34m)\u001b[0m\u001b[0;34m\u001b[0m\u001b[0;34m\u001b[0m\u001b[0m\n\u001b[1;32m      4\u001b[0m \u001b[0max\u001b[0m\u001b[0;34m.\u001b[0m\u001b[0mset_ylabel\u001b[0m\u001b[0;34m(\u001b[0m\u001b[0;34m'Sentiment score'\u001b[0m\u001b[0;34m,\u001b[0m \u001b[0msize\u001b[0m\u001b[0;34m=\u001b[0m\u001b[0;36m18\u001b[0m\u001b[0;34m)\u001b[0m\u001b[0;34m;\u001b[0m\u001b[0;34m\u001b[0m\u001b[0;34m\u001b[0m\u001b[0m\n",
      "\u001b[0;31mNameError\u001b[0m: name 'stock_mean_sentiment_shifted' is not defined"
     ]
    },
    {
     "data": {
      "image/png": "[encoded data removed]",
      "text/plain": [
       "<Figure size 1440x720 with 1 Axes>"
      ]
     },
     "metadata": {},
     "output_type": "display_data"
    }
   ],
   "source": [
    "fig, ax=plt.subplots(figsize=(20,10))\n",
    "ax=sns.regplot(x=stock_mean_sentiment_shifted.Volume, y=stock_mean_sentiment_shifted.Sentiment_score)\n",
    "ax.set_xlabel('Trading volume', size=18)\n",
    "ax.set_ylabel('Sentiment score', size=18);"
   ]
  },
  {
   "cell_type": "code",
   "execution_count": null,
   "id": "189aba9f",
   "metadata": {},
   "outputs": [],
   "source": []
  }
 ],
 "metadata": {
  "kernelspec": {
   "display_name": "Python 3 (ipykernel)",
   "language": "python",
   "name": "python3"
  },
  "language_info": {
   "codemirror_mode": {
    "name": "ipython",
    "version": 3
   },
   "file_extension": ".py",
   "mimetype": "text/x-python",
   "name": "python",
   "nbconvert_exporter": "python",
   "pygments_lexer": "ipython3",
   "version": "3.9.7"
  }
 },
 "nbformat": 4,
 "nbformat_minor": 5
}
