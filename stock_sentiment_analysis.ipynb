{
 "cells": [
  {
   "cell_type": "code",
   "execution_count": 157,
   "metadata": {},
   "outputs": [],
   "source": [
    "import pandas as pd\n",
    "import numpy as np\n",
    "import matplotlib.pyplot as plt\n",
    "import matplotlib.ticker as plticker\n",
    "import datetime as dt"
   ]
  },
  {
   "cell_type": "markdown",
   "metadata": {},
   "source": [
    "### Get data from sentiment analysis"
   ]
  },
  {
   "cell_type": "code",
   "execution_count": 158,
   "metadata": {},
   "outputs": [
    {
     "data": {
      "text/html": [
       "<div>\n",
       "<style scoped>\n",
       "    .dataframe tbody tr th:only-of-type {\n",
       "        vertical-align: middle;\n",
       "    }\n",
       "\n",
       "    .dataframe tbody tr th {\n",
       "        vertical-align: top;\n",
       "    }\n",
       "\n",
       "    .dataframe thead th {\n",
       "        text-align: right;\n",
       "    }\n",
       "</style>\n",
       "<table border=\"1\" class=\"dataframe\">\n",
       "  <thead>\n",
       "    <tr style=\"text-align: right;\">\n",
       "      <th></th>\n",
       "      <th>quoteID</th>\n",
       "      <th>quotation</th>\n",
       "      <th>speaker</th>\n",
       "      <th>date</th>\n",
       "      <th>numOccurrences</th>\n",
       "      <th>neg</th>\n",
       "      <th>neu</th>\n",
       "      <th>pos</th>\n",
       "      <th>compound</th>\n",
       "      <th>date_clean</th>\n",
       "    </tr>\n",
       "  </thead>\n",
       "  <tbody>\n",
       "    <tr>\n",
       "      <th>0</th>\n",
       "      <td>2015-01-01-041284</td>\n",
       "      <td>With major new premium services from Apple and...</td>\n",
       "      <td>Geoff Taylor</td>\n",
       "      <td>2015-01-01 00:01:00</td>\n",
       "      <td>3</td>\n",
       "      <td>0.0</td>\n",
       "      <td>0.854</td>\n",
       "      <td>0.146</td>\n",
       "      <td>0.5859</td>\n",
       "      <td>2015-01-01</td>\n",
       "    </tr>\n",
       "    <tr>\n",
       "      <th>1</th>\n",
       "      <td>2015-01-01-032875</td>\n",
       "      <td>They realize that they just can't assume that ...</td>\n",
       "      <td>Angus King</td>\n",
       "      <td>2015-01-01 00:14:24</td>\n",
       "      <td>1</td>\n",
       "      <td>0.0</td>\n",
       "      <td>0.892</td>\n",
       "      <td>0.108</td>\n",
       "      <td>0.6369</td>\n",
       "      <td>2015-01-01</td>\n",
       "    </tr>\n",
       "    <tr>\n",
       "      <th>2</th>\n",
       "      <td>2015-01-01-036563</td>\n",
       "      <td>We feel that there are a substantial number of...</td>\n",
       "      <td>William Anderson</td>\n",
       "      <td>2015-01-01 01:30:18</td>\n",
       "      <td>1</td>\n",
       "      <td>0.0</td>\n",
       "      <td>0.795</td>\n",
       "      <td>0.205</td>\n",
       "      <td>0.2732</td>\n",
       "      <td>2015-01-01</td>\n",
       "    </tr>\n",
       "    <tr>\n",
       "      <th>3</th>\n",
       "      <td>2015-01-01-041777</td>\n",
       "      <td>You can play a murderer's row but in conferenc...</td>\n",
       "      <td>Jim Crews</td>\n",
       "      <td>2015-01-01 02:47:17</td>\n",
       "      <td>1</td>\n",
       "      <td>0.0</td>\n",
       "      <td>0.769</td>\n",
       "      <td>0.231</td>\n",
       "      <td>0.5859</td>\n",
       "      <td>2015-01-01</td>\n",
       "    </tr>\n",
       "    <tr>\n",
       "      <th>4</th>\n",
       "      <td>2015-01-01-039665</td>\n",
       "      <td>We've also, surprisingly, had a lot of Apple r...</td>\n",
       "      <td>Daniel Williams</td>\n",
       "      <td>2015-01-01 04:10:31</td>\n",
       "      <td>1</td>\n",
       "      <td>0.0</td>\n",
       "      <td>0.804</td>\n",
       "      <td>0.196</td>\n",
       "      <td>0.2960</td>\n",
       "      <td>2015-01-01</td>\n",
       "    </tr>\n",
       "  </tbody>\n",
       "</table>\n",
       "</div>"
      ],
      "text/plain": [
       "             quoteID                                          quotation  \\\n",
       "0  2015-01-01-041284  With major new premium services from Apple and...   \n",
       "1  2015-01-01-032875  They realize that they just can't assume that ...   \n",
       "2  2015-01-01-036563  We feel that there are a substantial number of...   \n",
       "3  2015-01-01-041777  You can play a murderer's row but in conferenc...   \n",
       "4  2015-01-01-039665  We've also, surprisingly, had a lot of Apple r...   \n",
       "\n",
       "            speaker                 date  numOccurrences  neg    neu    pos  \\\n",
       "0      Geoff Taylor  2015-01-01 00:01:00               3  0.0  0.854  0.146   \n",
       "1        Angus King  2015-01-01 00:14:24               1  0.0  0.892  0.108   \n",
       "2  William Anderson  2015-01-01 01:30:18               1  0.0  0.795  0.205   \n",
       "3         Jim Crews  2015-01-01 02:47:17               1  0.0  0.769  0.231   \n",
       "4   Daniel Williams  2015-01-01 04:10:31               1  0.0  0.804  0.196   \n",
       "\n",
       "   compound  date_clean  \n",
       "0    0.5859  2015-01-01  \n",
       "1    0.6369  2015-01-01  \n",
       "2    0.2732  2015-01-01  \n",
       "3    0.5859  2015-01-01  \n",
       "4    0.2960  2015-01-01  "
      ]
     },
     "execution_count": 158,
     "metadata": {},
     "output_type": "execute_result"
    }
   ],
   "source": [
    "sentiment_df = pd.read_csv('./data/sentiment_df.csv')\n",
    "sentiment_df.head()"
   ]
  },
  {
   "cell_type": "code",
   "execution_count": 159,
   "metadata": {},
   "outputs": [],
   "source": [
    "# Try aggregate on weekly values, i.e. 7 days\n",
    "# Based on how much they contribute increase size of scatter plot circle\n",
    "agg_month_sentiment = []\n",
    "agg_month_dates = []\n",
    "\n",
    "for index, (idx, row) in enumerate(sentiment_df.iterrows()):\n",
    "    date = row['date_clean']\n",
    "    if index == 0:\n",
    "        current_month = date[:7]\n",
    "        current_size = 0\n",
    "\n",
    "    tmp_month = current_month\n",
    "    current_month = date[:7] # the seven first digits of the date\n",
    "    if tmp_month != current_month:\n",
    "        agg_month_sentiment.append(current_size)\n",
    "        current_size = 0\n",
    "        agg_month_dates.append(current_month)\n",
    "    \n",
    "    # updates weighted aggregated value of positive and negative\n",
    "    current_size += row['compound'] #*row['numOccurrences']"
   ]
  },
  {
   "cell_type": "code",
   "execution_count": 160,
   "metadata": {},
   "outputs": [],
   "source": [
    "result_values = []\n",
    "result_mon = []\n",
    "for mon, agg in zip(agg_month_dates, agg_month_sentiment):\n",
    "    result_values.append(agg)\n",
    "    result_mon.append(mon)"
   ]
  },
  {
   "cell_type": "markdown",
   "metadata": {},
   "source": [
    "### Get data from stock analysis"
   ]
  },
  {
   "cell_type": "code",
   "execution_count": 161,
   "metadata": {},
   "outputs": [],
   "source": [
    "stock_data=pd.read_csv('./data/AAPL_2015_to_2020_yahoo_finance.csv')\n",
    "apple_event_and_stock_data=pd.read_csv('./data/events_dates_with_stock_data.csv')\n",
    "apple_earnings_and_stock_data=pd.read_csv('./data/earnings_dates_with_stock_data.csv')"
   ]
  },
  {
   "cell_type": "markdown",
   "metadata": {},
   "source": [
    "### Group by week"
   ]
  },
  {
   "cell_type": "code",
   "execution_count": 162,
   "metadata": {},
   "outputs": [],
   "source": [
    "stock_data_weekly_average=stock_data.copy()\n",
    "\n",
    "#Create a new dataframe containing the weekly average of the stock price. The method is obtained from\n",
    "stock_data_weekly_average.Date = pd.to_datetime(stock_data_weekly_average.Date) - pd.to_timedelta(7, unit='d')\n",
    "stock_data_weekly_average = stock_data_weekly_average.groupby([pd.Grouper(key='Date', freq='W-MON')]).mean().reset_index().sort_values('Date')"
   ]
  },
  {
   "cell_type": "markdown",
   "metadata": {},
   "source": [
    "### Calculate monthly change"
   ]
  },
  {
   "cell_type": "code",
   "execution_count": 163,
   "metadata": {},
   "outputs": [],
   "source": [
    "stock_data[\"Date\"]=stock_data['Date'].apply(lambda x: dt.datetime.strptime(x[:10], '%Y-%m-%d'))"
   ]
  },
  {
   "cell_type": "code",
   "execution_count": 164,
   "metadata": {},
   "outputs": [],
   "source": [
    "monthly_stock_diff_df=pd.DataFrame(stock_data.groupby(pd.Grouper(key='Date', freq=\"M\")).first()[\"Open\"]-stock_data.groupby(pd.Grouper(key='Date', freq=\"M\")).last()[\"Close\"], columns=[\"price_difference\"])"
   ]
  },
  {
   "cell_type": "code",
   "execution_count": 165,
   "metadata": {},
   "outputs": [
    {
     "data": {
      "text/html": [
       "<div>\n",
       "<style scoped>\n",
       "    .dataframe tbody tr th:only-of-type {\n",
       "        vertical-align: middle;\n",
       "    }\n",
       "\n",
       "    .dataframe tbody tr th {\n",
       "        vertical-align: top;\n",
       "    }\n",
       "\n",
       "    .dataframe thead th {\n",
       "        text-align: right;\n",
       "    }\n",
       "</style>\n",
       "<table border=\"1\" class=\"dataframe\">\n",
       "  <thead>\n",
       "    <tr style=\"text-align: right;\">\n",
       "      <th></th>\n",
       "      <th>price_difference</th>\n",
       "    </tr>\n",
       "    <tr>\n",
       "      <th>Date</th>\n",
       "      <th></th>\n",
       "    </tr>\n",
       "  </thead>\n",
       "  <tbody>\n",
       "    <tr>\n",
       "      <th>2015-01-31</th>\n",
       "      <td>-1.442501</td>\n",
       "    </tr>\n",
       "    <tr>\n",
       "      <th>2015-02-28</th>\n",
       "      <td>-2.602501</td>\n",
       "    </tr>\n",
       "    <tr>\n",
       "      <th>2015-03-31</th>\n",
       "      <td>1.205000</td>\n",
       "    </tr>\n",
       "    <tr>\n",
       "      <th>2015-04-30</th>\n",
       "      <td>-0.082500</td>\n",
       "    </tr>\n",
       "    <tr>\n",
       "      <th>2015-05-31</th>\n",
       "      <td>-1.045000</td>\n",
       "    </tr>\n",
       "  </tbody>\n",
       "</table>\n",
       "</div>"
      ],
      "text/plain": [
       "            price_difference\n",
       "Date                        \n",
       "2015-01-31         -1.442501\n",
       "2015-02-28         -2.602501\n",
       "2015-03-31          1.205000\n",
       "2015-04-30         -0.082500\n",
       "2015-05-31         -1.045000"
      ]
     },
     "execution_count": 165,
     "metadata": {},
     "output_type": "execute_result"
    }
   ],
   "source": [
    "monthly_stock_diff_df.head()"
   ]
  },
  {
   "cell_type": "markdown",
   "metadata": {},
   "source": [
    "`monthly_stock_diff` displays the monthly price change off the Apple-stock."
   ]
  },
  {
   "cell_type": "markdown",
   "metadata": {},
   "source": [
    "## See if there is any correlation between stock and sentiment"
   ]
  },
  {
   "cell_type": "markdown",
   "metadata": {},
   "source": [
    "Create a monthly aggregated sentiment dataframe"
   ]
  },
  {
   "cell_type": "code",
   "execution_count": 166,
   "metadata": {},
   "outputs": [],
   "source": [
    "sentiment_monthly_df=pd.DataFrame(zip(result_mon, result_values), columns =['Date', 'Values'])\n",
    "sentiment_monthly_df['Date'] = sentiment_monthly_df['Date'].apply(lambda x: dt.datetime.strptime(x[:10], '%Y-%m'))"
   ]
  },
  {
   "cell_type": "code",
   "execution_count": 167,
   "metadata": {},
   "outputs": [
    {
     "data": {
      "text/html": [
       "<div>\n",
       "<style scoped>\n",
       "    .dataframe tbody tr th:only-of-type {\n",
       "        vertical-align: middle;\n",
       "    }\n",
       "\n",
       "    .dataframe tbody tr th {\n",
       "        vertical-align: top;\n",
       "    }\n",
       "\n",
       "    .dataframe thead th {\n",
       "        text-align: right;\n",
       "    }\n",
       "</style>\n",
       "<table border=\"1\" class=\"dataframe\">\n",
       "  <thead>\n",
       "    <tr style=\"text-align: right;\">\n",
       "      <th></th>\n",
       "      <th>Date</th>\n",
       "      <th>Values</th>\n",
       "    </tr>\n",
       "  </thead>\n",
       "  <tbody>\n",
       "    <tr>\n",
       "      <th>0</th>\n",
       "      <td>2015-02-01</td>\n",
       "      <td>375.3895</td>\n",
       "    </tr>\n",
       "    <tr>\n",
       "      <th>1</th>\n",
       "      <td>2015-03-01</td>\n",
       "      <td>336.9674</td>\n",
       "    </tr>\n",
       "    <tr>\n",
       "      <th>2</th>\n",
       "      <td>2015-04-01</td>\n",
       "      <td>541.0418</td>\n",
       "    </tr>\n",
       "    <tr>\n",
       "      <th>3</th>\n",
       "      <td>2015-05-01</td>\n",
       "      <td>463.2872</td>\n",
       "    </tr>\n",
       "    <tr>\n",
       "      <th>4</th>\n",
       "      <td>2015-06-01</td>\n",
       "      <td>281.1544</td>\n",
       "    </tr>\n",
       "  </tbody>\n",
       "</table>\n",
       "</div>"
      ],
      "text/plain": [
       "        Date    Values\n",
       "0 2015-02-01  375.3895\n",
       "1 2015-03-01  336.9674\n",
       "2 2015-04-01  541.0418\n",
       "3 2015-05-01  463.2872\n",
       "4 2015-06-01  281.1544"
      ]
     },
     "execution_count": 167,
     "metadata": {},
     "output_type": "execute_result"
    }
   ],
   "source": [
    "sentiment_monthly_df.head()"
   ]
  },
  {
   "cell_type": "markdown",
   "metadata": {},
   "source": [
    "As the `sentiment_monthly_df` use the first date of the next month used to calculate sentiment, while `monthly_stock_diff` use the last day of the month used to calculate stock difference, we change the date of `sentiment_monthly_df` by one day before merging them."
   ]
  },
  {
   "cell_type": "code",
   "execution_count": 168,
   "metadata": {},
   "outputs": [],
   "source": [
    "from pandas.tseries.offsets import DateOffset\n",
    "\n",
    "sentiment_monthly_df['Date']=sentiment_monthly_df['Date']-DateOffset(days=1)"
   ]
  },
  {
   "cell_type": "code",
   "execution_count": 169,
   "metadata": {},
   "outputs": [
    {
     "data": {
      "text/html": [
       "<div>\n",
       "<style scoped>\n",
       "    .dataframe tbody tr th:only-of-type {\n",
       "        vertical-align: middle;\n",
       "    }\n",
       "\n",
       "    .dataframe tbody tr th {\n",
       "        vertical-align: top;\n",
       "    }\n",
       "\n",
       "    .dataframe thead th {\n",
       "        text-align: right;\n",
       "    }\n",
       "</style>\n",
       "<table border=\"1\" class=\"dataframe\">\n",
       "  <thead>\n",
       "    <tr style=\"text-align: right;\">\n",
       "      <th></th>\n",
       "      <th>Date</th>\n",
       "      <th>Values</th>\n",
       "    </tr>\n",
       "  </thead>\n",
       "  <tbody>\n",
       "    <tr>\n",
       "      <th>0</th>\n",
       "      <td>2015-01-31</td>\n",
       "      <td>375.3895</td>\n",
       "    </tr>\n",
       "    <tr>\n",
       "      <th>1</th>\n",
       "      <td>2015-02-28</td>\n",
       "      <td>336.9674</td>\n",
       "    </tr>\n",
       "    <tr>\n",
       "      <th>2</th>\n",
       "      <td>2015-03-31</td>\n",
       "      <td>541.0418</td>\n",
       "    </tr>\n",
       "    <tr>\n",
       "      <th>3</th>\n",
       "      <td>2015-04-30</td>\n",
       "      <td>463.2872</td>\n",
       "    </tr>\n",
       "    <tr>\n",
       "      <th>4</th>\n",
       "      <td>2015-05-31</td>\n",
       "      <td>281.1544</td>\n",
       "    </tr>\n",
       "  </tbody>\n",
       "</table>\n",
       "</div>"
      ],
      "text/plain": [
       "        Date    Values\n",
       "0 2015-01-31  375.3895\n",
       "1 2015-02-28  336.9674\n",
       "2 2015-03-31  541.0418\n",
       "3 2015-04-30  463.2872\n",
       "4 2015-05-31  281.1544"
      ]
     },
     "execution_count": 169,
     "metadata": {},
     "output_type": "execute_result"
    }
   ],
   "source": [
    "sentiment_monthly_df.head()"
   ]
  },
  {
   "cell_type": "markdown",
   "metadata": {},
   "source": [
    "Plot the development of the stock price and the development of the sentiment to see if there is any obvious relationships."
   ]
  },
  {
   "cell_type": "code",
   "execution_count": 170,
   "metadata": {},
   "outputs": [
    {
     "data": {
      "image/png": "[encoded data removed]",
      "text/plain": [
       "<Figure size 720x720 with 2 Axes>"
      ]
     },
     "metadata": {
      "needs_background": "light"
     },
     "output_type": "display_data"
    }
   ],
   "source": [
    "fig, (ax1, ax2) = plt.subplots(2, 1, sharex=True, figsize=(10,10))\n",
    "ax1.plot(stock_data_weekly_average.Date,stock_data_weekly_average.Close, label='Apple stock')\n",
    "ax1.set_ylabel('Stock closing price ($)', size=18)\n",
    "ax1.scatter(apple_event_and_stock_data.Date, apple_event_and_stock_data.Close, c=\"r\", s=100, zorder=3, label='Apple events')\n",
    "ax1.scatter(apple_earnings_and_stock_data.Date, apple_earnings_and_stock_data.Close, c=\"g\", s=100, zorder=3, label='Apple earnings date')\n",
    "ax1.legend(prop={'size': 25})\n",
    "\n",
    "ax2.plot(sentiment_monthly_df.Date, sentiment_monthly_df.Values, color='green')\n",
    "ax2.set_ylabel('Aggregated sentiment intensity score', fontsize=18)\n",
    "plt.show();"
   ]
  },
  {
   "cell_type": "markdown",
   "metadata": {},
   "source": [
    "By just looking at the plots, it is not easy to tell if the sentiment and the stock price is related in any way. We therefore tries to merge the two dataframes by the Date-column to further explore the relationships between the the sentiment and price."
   ]
  },
  {
   "cell_type": "code",
   "execution_count": 171,
   "metadata": {},
   "outputs": [],
   "source": [
    "stock_price_sentiment = pd.merge(monthly_stock_diff_df, sentiment_monthly_df, how='inner', on = 'Date')"
   ]
  },
  {
   "cell_type": "code",
   "execution_count": 172,
   "metadata": {},
   "outputs": [
    {
     "data": {
      "text/html": [
       "<div>\n",
       "<style scoped>\n",
       "    .dataframe tbody tr th:only-of-type {\n",
       "        vertical-align: middle;\n",
       "    }\n",
       "\n",
       "    .dataframe tbody tr th {\n",
       "        vertical-align: top;\n",
       "    }\n",
       "\n",
       "    .dataframe thead th {\n",
       "        text-align: right;\n",
       "    }\n",
       "</style>\n",
       "<table border=\"1\" class=\"dataframe\">\n",
       "  <thead>\n",
       "    <tr style=\"text-align: right;\">\n",
       "      <th></th>\n",
       "      <th>Date</th>\n",
       "      <th>price_difference</th>\n",
       "      <th>Values</th>\n",
       "    </tr>\n",
       "  </thead>\n",
       "  <tbody>\n",
       "    <tr>\n",
       "      <th>0</th>\n",
       "      <td>2015-01-31</td>\n",
       "      <td>-1.442501</td>\n",
       "      <td>375.3895</td>\n",
       "    </tr>\n",
       "    <tr>\n",
       "      <th>1</th>\n",
       "      <td>2015-02-28</td>\n",
       "      <td>-2.602501</td>\n",
       "      <td>336.9674</td>\n",
       "    </tr>\n",
       "    <tr>\n",
       "      <th>2</th>\n",
       "      <td>2015-03-31</td>\n",
       "      <td>1.205000</td>\n",
       "      <td>541.0418</td>\n",
       "    </tr>\n",
       "    <tr>\n",
       "      <th>3</th>\n",
       "      <td>2015-04-30</td>\n",
       "      <td>-0.082500</td>\n",
       "      <td>463.2872</td>\n",
       "    </tr>\n",
       "    <tr>\n",
       "      <th>4</th>\n",
       "      <td>2015-05-31</td>\n",
       "      <td>-1.045000</td>\n",
       "      <td>281.1544</td>\n",
       "    </tr>\n",
       "  </tbody>\n",
       "</table>\n",
       "</div>"
      ],
      "text/plain": [
       "        Date  price_difference    Values\n",
       "0 2015-01-31         -1.442501  375.3895\n",
       "1 2015-02-28         -2.602501  336.9674\n",
       "2 2015-03-31          1.205000  541.0418\n",
       "3 2015-04-30         -0.082500  463.2872\n",
       "4 2015-05-31         -1.045000  281.1544"
      ]
     },
     "execution_count": 172,
     "metadata": {},
     "output_type": "execute_result"
    }
   ],
   "source": [
    "stock_price_sentiment.head()"
   ]
  },
  {
   "cell_type": "code",
   "execution_count": 173,
   "metadata": {},
   "outputs": [
    {
     "data": {
      "image/png": "[encoded data removed]",
      "text/plain": [
       "<Figure size 1296x576 with 1 Axes>"
      ]
     },
     "metadata": {
      "needs_background": "light"
     },
     "output_type": "display_data"
    }
   ],
   "source": [
    "fig,ax = plt.subplots(figsize=(18,8))\n",
    "ax.scatter(stock_price_sentiment.price_difference, stock_price_sentiment.Values, label='Apple stock')\n",
    "ax.set_xlabel('Price difference from start to end of month ($)', size=18)\n",
    "ax.set_ylabel('Sentiment score', size=18)\n",
    "plt.show()"
   ]
  },
  {
   "cell_type": "markdown",
   "metadata": {},
   "source": [
    "## Stock API\n"
   ]
  },
  {
   "cell_type": "code",
   "execution_count": 174,
   "metadata": {},
   "outputs": [],
   "source": [
    "#import requests\n",
    "\n",
    "# replace the \"demo\" apikey below with your own key from https://www.alphavantage.co/support/#api-key\n",
    "#url = 'https://www.alphavantage.co/query?function=TIME_SERIES_WEEKLY_ADJUSTED&symbol=AAPL&apikey=API'\n",
    "#r = requests.get(url)\n",
    "#data = r.json()\n",
    "\n",
    "#print(data)"
   ]
  }
 ],
 "metadata": {
  "interpreter": {
   "hash": "188411ed0812b3328dfd369c024d7b6a24e76f04484f61e25acd4169340cb480"
  },
  "kernelspec": {
   "display_name": "Python 3.8.12 64-bit ('ada': conda)",
   "language": "python",
   "name": "python3"
  },
  "language_info": {
   "codemirror_mode": {
    "name": "ipython",
    "version": 3
   },
   "file_extension": ".py",
   "mimetype": "text/x-python",
   "name": "python",
   "nbconvert_exporter": "python",
   "pygments_lexer": "ipython3",
   "version": "3.8.12"
  },
  "orig_nbformat": 4
 },
 "nbformat": 4,
 "nbformat_minor": 2
}
