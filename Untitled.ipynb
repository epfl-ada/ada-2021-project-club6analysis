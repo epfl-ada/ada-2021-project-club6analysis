{
 "cells": [
  {
   "cell_type": "code",
   "execution_count": 1,
   "id": "ec0fdc91",
   "metadata": {},
   "outputs": [],
   "source": [
    "#Apples and oranges, you cannot even, you just can't compare,\n"
   ]
  },
  {
   "cell_type": "code",
   "execution_count": 2,
   "id": "c09c4500",
   "metadata": {},
   "outputs": [],
   "source": [
    "import fasttext\n",
    "import numpy as np\n",
    "import json\n",
    "import pandas as pd\n",
    "import matplotlib as plt\n",
    "from nltk.stem import PorterStemmer\n",
    "import os.path\n",
    "import time\n",
    "from IPython.display import clear_output\n",
    "import gc\n",
    "import csv"
   ]
  },
  {
   "cell_type": "code",
   "execution_count": 7,
   "id": "3ef4ce61",
   "metadata": {},
   "outputs": [
    {
     "data": {
      "text/plain": [
       "['Apples',\n",
       " 'and',\n",
       " 'oranges,',\n",
       " 'you',\n",
       " 'cannot',\n",
       " 'even,',\n",
       " 'you',\n",
       " 'just',\n",
       " \"can't\",\n",
       " 'compare,',\n",
       " 'bananas']"
      ]
     },
     "execution_count": 7,
     "metadata": {},
     "output_type": "execute_result"
    }
   ],
   "source": [
    "add_list = [\"apple inc\", \"tim cook\", \"steve jobs\", \"iphone\", \"ipad\", \"imac\", \"apple watch\", \"macbook\", \"macbook pro\", \"aapl\", \"mac mini\"]\n",
    "check_list = [\"apple\"]\n",
    "exclude_list = [\"fruit\", 'banana', 'orange', \"oranges\", 'strawberries', \"watermelon\", 'lemons', 'blueberries']\n",
    "speaker_list = set([\"Tim Took\", \"Steve Jobs\", \"Katherine Adamas\", \"Jony Ive\", \"Eddy Cue\", \"Craig Frederighi\", \"Greg joswiak\", \"Stella Low\", \"Tor Myhren\"])\n",
    "string = \"Apples and oranges, you cannot even, you just can't compare, bananas\"\n",
    "arr = string.split()\n",
    "arr"
   ]
  },
  {
   "cell_type": "code",
   "execution_count": 8,
   "id": "c42802b4",
   "metadata": {},
   "outputs": [
    {
     "data": {
      "text/plain": [
       "['appl',\n",
       " 'and',\n",
       " 'oranges,',\n",
       " 'you',\n",
       " 'cannot',\n",
       " 'even,',\n",
       " 'you',\n",
       " 'just',\n",
       " \"can't\",\n",
       " 'compare,',\n",
       " 'banana']"
      ]
     },
     "execution_count": 8,
     "metadata": {},
     "output_type": "execute_result"
    }
   ],
   "source": [
    "ps = PorterStemmer()\n",
    "[ps.stem(word) for word in arr]"
   ]
  },
  {
   "cell_type": "code",
   "execution_count": null,
   "id": "1fe3a93a",
   "metadata": {},
   "outputs": [],
   "source": []
  }
 ],
 "metadata": {
  "kernelspec": {
   "display_name": "Python 3",
   "language": "python",
   "name": "python3"
  },
  "language_info": {
   "codemirror_mode": {
    "name": "ipython",
    "version": 3
   },
   "file_extension": ".py",
   "mimetype": "text/x-python",
   "name": "python",
   "nbconvert_exporter": "python",
   "pygments_lexer": "ipython3",
   "version": "3.8.8"
  }
 },
 "nbformat": 4,
 "nbformat_minor": 5
}
