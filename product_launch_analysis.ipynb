{
 "cells": [
  {
   "cell_type": "code",
   "execution_count": null,
   "metadata": {},
   "outputs": [],
   "source": [
    "import pandas as pd\n",
    "import numpy as np\n",
    "import datetime as dt\n",
    "import seaborn as sns\n",
    "import matplotlib.pyplot as plt"
   ]
  },
  {
   "cell_type": "markdown",
   "metadata": {},
   "source": [
    "## Apple product launch analysis\n",
    "Loading the data and preprocessing."
   ]
  },
  {
   "cell_type": "code",
   "execution_count": null,
   "metadata": {},
   "outputs": [],
   "source": [
    "df = pd.read_csv(\"data/quotes-2020-apple-filter.csv\",sep=\";\")\n",
    "df = df.append(pd.read_csv(\"data/quotes-2019-apple-filter.csv\",sep=\";\"))\n",
    "df = df.append(pd.read_csv(\"data/quotes-2018-apple-filter.csv\",sep=\";\"))\n",
    "df = df.append(pd.read_csv(\"data/quotes-2017-apple-filter.csv\",sep=\";\"))\n",
    "df = df.append(pd.read_csv(\"data/quotes-2016-apple-filter.csv\",sep=\";\"))\n",
    "df = df.append(pd.read_csv(\"data/quotes-2015-apple-filter.csv\",sep=\";\"))\n",
    "\n",
    "#List of dates for the apple events\n",
    "apple_event_dates_str=[\"2015-03-09\",\"2015-06-10\",\"2015-09-09\",\n",
    "\"2016-03-21\",\"2016-06-15\",\"2016-09-07\", \"2016-10-27\",\n",
    "\"2017-06-07\", \"2017-09-12\",\n",
    "\"2018-03-27\",\"2018-06-06\", \"2018-09-12\", \"2018-10-30\",\n",
    "\"2019-03-25\",\"2019-06-05\",\"2019-09-10\",\"2019-12-02\",\n",
    "\"2020-06-24\",\"2020-09-15\",\"2020-10-13\",\"2020-11-10\"]\n",
    "\n",
    "#apple_event_dates_pd = pd.DataFrame({'Date':[dt.datetime.strptime(date, \"%Y-%m-%d\").date() for date in apple_event_dates_str]})\n",
    "apple_event_dates=[dt.datetime.strptime(date, \"%Y-%m-%d\").date() for date in apple_event_dates_str]\n",
    "\n",
    "# Clean the date column, such that it only contains date information and not timestamp\n",
    "df['date_clean'] = df.apply(lambda x: x['date'][:10],axis=1)\n",
    "df['date_clean_datetime'] = df['date_clean'].apply(lambda x: dt.datetime.strptime(x[:10], '%Y-%m-%d').date())\n",
    "\n",
    "# Drop outlier\n",
    "df = df.drop(df.loc[df.numOccurrences == 39978].index)"
   ]
  },
  {
   "cell_type": "markdown",
   "metadata": {},
   "source": [
    "Let's start by looking at how the number of apple related citations are related to product launches."
   ]
  },
  {
   "cell_type": "code",
   "execution_count": null,
   "metadata": {},
   "outputs": [],
   "source": [
    "# slice the data frame \n",
    "time = df.groupby(['date_clean']).sum().index\n",
    "quote_num = df.groupby(['date_clean']).sum()['numOccurrences']\n",
    "fig,ax = plt.subplots(figsize=(18,8))\n",
    "ax.plot(time,quote_num, label= \"Quote occurrences\")\n",
    "ax.set_xlabel(\"dates\",size=15)\n",
    "ax.scatter(time[time.isin(apple_event_dates_str)],quote_num[time.isin(apple_event_dates_str)], c=\"r\", s=100, zorder=3, label='Apple events')\n",
    "plt.xticks(time[::30],rotation=90)\n",
    "ax.set_ylabel(\"Quotation occurrences\",size=15)\n",
    "ax.set_title(\"Number of daily Apple-related Citations 2015 through 2020\",size=18)\n",
    "ax.legend(prop={'size': 20})\n",
    "plt.show()"
   ]
  },
  {
   "cell_type": "markdown",
   "metadata": {},
   "source": [
    "**Quantifying the media attention**\n",
    "\n",
    "To quantify the media attention for a given Apple event, the following metrics are formulated:\n",
    "- **Attention**: The number of weekly quote occurrences.\n",
    "- **Baseline attention**: Average attention throughout the time period.\n",
    "- **Event attention**: Avg. of quote occurrences through event week, prior and post week.\n",
    "- **Event attention increase %**: (Event attention - Baseline attention) / Baseline attention.\n",
    "\n",
    "\n",
    "To be able to compute these metrics, as well as make further analysis possible, we create the following dataframe:\n",
    "\n",
    "*Columns:* \\\n",
    "Event-date, attention_week3_pre, attention_week2_pre, attention_week1_pre, attention_week0, attention_week1_post, attention_week2_post, attention_week3_post\n"
   ]
  },
  {
   "cell_type": "code",
   "execution_count": null,
   "metadata": {},
   "outputs": [],
   "source": [
    "df_events = pd.DataFrame()\n",
    "events = []\n",
    "for date in apple_event_dates:\n",
    "    if (date.year == 2019 and date.month < 12) or date.year < 2020:\n",
    "        events.append(date)\n",
    "df_events['event_date'] = events\n",
    "\n",
    "# group data frame by week and year to get weekly attention numbers\n",
    "df['week'] = df.apply(lambda x: str(x['date_clean_datetime'].isocalendar()[1]), axis=1)\n",
    "df['year'] = df.apply(lambda x: str(x['date_clean_datetime'].isocalendar()[0]), axis=1)\n",
    "df['yearweek'] = df['week'] + df['year']\n",
    "df_attention = df.groupby(['year','week']).sum().reset_index()\n",
    "\n",
    "def attention_query(date, num_weeks):\n",
    "    \"adds weeks to date and returns the attention the corresponding week and year\"\n",
    "    new_date = date + dt.timedelta(weeks=num_weeks)\n",
    "    year = str(new_date.isocalendar()[0])\n",
    "    week = str(new_date.isocalendar()[1])\n",
    "    count = df_attention.loc[(df_attention.week == week) & (df_attention.year == year)].numOccurrences.item()\n",
    "    return count\n",
    "\n",
    "# Create columns for all events\n",
    "df_events['attention_week3_pre'] = df_events.apply(lambda x: attention_query(x['event_date'], -3),axis=1)\n",
    "df_events['attention_week2_pre'] = df_events.apply(lambda x: attention_query(x['event_date'], -2),axis=1)\n",
    "df_events['attention_week1_pre'] = df_events.apply(lambda x: attention_query(x['event_date'], -1),axis=1)\n",
    "df_events['attention_week0'] = df_events.apply(lambda x: attention_query(x['event_date'], 0),axis=1)\n",
    "df_events['attention_week1_post'] = df_events.apply(lambda x: attention_query(x['event_date'], 1),axis=1)\n",
    "df_events['attention_week2_post'] = df_events.apply(lambda x: attention_query(x['event_date'], 2),axis=1)\n",
    "df_events['attention_week3_post'] = df_events.apply(lambda x: attention_query(x['event_date'], 3),axis=1)\n",
    "\n",
    "df_events.head()\n"
   ]
  },
  {
   "cell_type": "code",
   "execution_count": null,
   "metadata": {},
   "outputs": [],
   "source": [
    "df_events.describe()"
   ]
  },
  {
   "cell_type": "markdown",
   "metadata": {},
   "source": [
    "Let's visualize the typical distribution of media attention"
   ]
  },
  {
   "cell_type": "code",
   "execution_count": null,
   "metadata": {},
   "outputs": [],
   "source": [
    "fig,ax = plt.subplots(figsize=(18,8))\n",
    "sns.set(font_scale=2)\n",
    "sns.set_theme(style=\"white\", rc={\"axes.spines.right\": False, \"axes.spines.top\": False},\n",
    "              font_scale=2)\n",
    "ax = seaborn.boxplot(data=df_events,\n",
    "                     saturation=0.5)\n",
    "#ax.set_title(\"Media attention before, during and after an Apple event\")\n",
    "ax.set_ylabel(\"Apple related quotes\")\n",
    "positions = (0,1, 2, 3, 4, 5, 6)\n",
    "labels = (\"3 weeks prior\", \"2 weeks prior\", \"1 week prior\",\"Event week\", \"1 week after\", \"2 weeks after\", \"3 weeks after\")\n",
    "plt.xticks(positions, labels, rotation=22.5);\n",
    "#sns.despine(fig)\n"
   ]
  },
  {
   "cell_type": "markdown",
   "metadata": {},
   "source": [
    "Looking at the medians, we see that the media attention rises until the week of the event where it peaksa and then gradually declines in the following weeks.\n",
    "\n",
    "Now we will compute the baseline attention, event attention and event attention increase."
   ]
  },
  {
   "cell_type": "code",
   "execution_count": null,
   "metadata": {},
   "outputs": [],
   "source": [
    "# Compute baseline\n",
    "baseline = df_attention.numOccurrences.mean()\n",
    "df_events['baseline'] = baseline\n",
    "\n",
    "# Compute average of attention in the weeks prior and after an event \n",
    "columns = ['attention_week3_pre', 'attention_week2_pre','attention_week1_pre', 'attention_week0', 'attention_week1_post', 'attention_week2_post', 'attention_week3_post']\n",
    "df_events['event_attention'] = df_events[columns].mean(axis=1)\n",
    "df_events['attention_increase'] =  100 * (df_events.event_attention - df_events.baseline) / df_events.baseline\n",
    "df_events['color'] = df_events.apply(lambda x: 'indianred' if x['attention_increase'] < 0  else 'seagreen',axis=1)\n",
    "df_events"
   ]
  },
  {
   "cell_type": "markdown",
   "metadata": {},
   "source": [
    "###"
   ]
  },
  {
   "cell_type": "markdown",
   "metadata": {},
   "source": [
    "Now looking at how different apple events have deviated from the attention average"
   ]
  },
  {
   "cell_type": "code",
   "execution_count": null,
   "metadata": {},
   "outputs": [],
   "source": [
    "fig,ax = plt.subplots(figsize=(18,8))\n",
    "plt.bar(x=apple_event_dates_str[:17],height=df_events.attention_increase,color=df_events.color)\n",
    "plt.xticks(rotation=90)\n",
    "plt.xlabel(\"Event dates\")\n",
    "plt.ylabel(\"Attention increase from baseline (%)\")\n",
    "plt.title(\"Apple events' deviation from attention baseline\")\n",
    "plt.text(10.9, 10, \"iPhone XS, XR, Apple Watch\", fontsize=14,rotation=90,color=\"black\")\n",
    "plt.text(7.9, 10, \"iPhone 8, iPhone X\", fontsize=14,rotation=90,color=\"white\")\n",
    "plt.text(4.9, 10, \"iPhone 7, AirPods\", fontsize=14,rotation=90,color=\"white\")\n",
    "plt.text(1.9, 10, \"iPhone 6S,\", fontsize=14,rotation=90,color=\"white\")\n",
    "plt.text(1.9, 65, \"iPad Pro/Mini\", fontsize=14,rotation=90,color=\"black\")\n",
    "plt.text(5.9, -90, \"Macbook Pro\", fontsize=14,rotation=90,color=\"white\");\n",
    "plt.text(2.9, -90, \"iPhone SE, iPad Pro\", fontsize=14,rotation=90,color=\"white\");\n",
    "plt.text(3.9, -50, \"Software\", fontsize=14,rotation=90,color=\"white\");\n",
    "plt.text(12.9, -100, \"Apple TV+/Card/Arcade\", fontsize=14,rotation=90,color=\"black\");\n",
    "plt.text(14.9, -105, \"iPhone 11, Apple Watch\", fontsize=14,rotation=90,color=\"black\");"
   ]
  },
  {
   "cell_type": "code",
   "execution_count": null,
   "metadata": {},
   "outputs": [],
   "source": [
    "fig,ax = plt.subplots(figsize=(12,18))\n",
    "plt.barh(y=apple_event_dates_str[:17],width=df_events.attention_increase,color=df_events.color)\n",
    "#plt.xticks(rotation=90)\n",
    "plt.xlabel(\"Event dates\")\n",
    "plt.ylabel(\"Attention increase from baseline (%)\")\n",
    "plt.title(\"Apple events' deviation from attention baseline\")\n",
    "plt.text(10, 10.9, \"iPhone XS, XR, Apple Watch\", fontsize=14, color=\"black\")\n",
    "plt.text(10, 7.9, \"iPhone 8, iPhone X\", fontsize=14,color=\"white\")\n",
    "plt.text(10, 4.9, \"iPhone 7, AirPods\", fontsize=14,color=\"white\")\n",
    "plt.text(10, 1.9, \"iPhone 6S,\", fontsize=14,color=\"white\")\n",
    "plt.text(65, 1.9, \"iPad Pro/Mini\", fontsize=14,color=\"black\")\n",
    "plt.text(-90, 5.9, \"Macbook Pro\", fontsize=14,color=\"white\");\n",
    "plt.text(-90, 2.9, \"iPhone SE, iPad Pro\", fontsize=14,color=\"white\");\n",
    "plt.text(-50, 3.9, \"Software\", fontsize=14,color=\"white\");\n",
    "plt.text(-100, 12.9, \"Apple TV+/Card/Arcade\", fontsize=14,color=\"black\");\n",
    "plt.text(-105, 14.9, \"iPhone 11, Apple Watch\", fontsize=14,color=\"black\");"
   ]
  },
  {
   "cell_type": "code",
   "execution_count": null,
   "metadata": {},
   "outputs": [],
   "source": []
  }
 ],
 "metadata": {
  "interpreter": {
   "hash": "40d3a090f54c6569ab1632332b64b2c03c39dcf918b08424e98f38b5ae0af88f"
  },
  "kernelspec": {
   "display_name": "Python 3.8.8 64-bit ('base': conda)",
   "language": "python",
   "name": "python3"
  },
  "language_info": {
   "codemirror_mode": {
    "name": "ipython",
    "version": 3
   },
   "file_extension": ".py",
   "mimetype": "text/x-python",
   "name": "python",
   "nbconvert_exporter": "python",
   "pygments_lexer": "ipython3",
   "version": "3.8.11"
  },
  "orig_nbformat": 4
 },
 "nbformat": 4,
 "nbformat_minor": 2
}
