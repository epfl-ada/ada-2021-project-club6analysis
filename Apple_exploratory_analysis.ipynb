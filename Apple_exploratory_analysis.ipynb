{
 "cells": [
  {
   "cell_type": "code",
   "execution_count": null,
   "metadata": {},
   "outputs": [],
   "source": [
    "import json\n",
    "import pandas as pd\n",
    "import matplotlib.pyplot as plt\n",
    "import numpy as np\n",
    "import datetime as dt"
   ]
  },
  {
   "cell_type": "code",
   "execution_count": null,
   "metadata": {},
   "outputs": [],
   "source": [
    "df=pd.read_csv('./AAPL_2015_to_2020_yahoo_finance.csv')"
   ]
  },
  {
   "cell_type": "code",
   "execution_count": null,
   "metadata": {},
   "outputs": [],
   "source": [
    "#Adding data to dates when the stock market is closed\n",
    "idx = pd.date_range('2015-01-02', '2020-12-31')\n",
    "df.index = pd.DatetimeIndex(df.Date)\n",
    "df = df.reindex(idx, method='ffill')\n",
    "df.drop('Date', axis=1, inplace=True)"
   ]
  },
  {
   "cell_type": "code",
   "execution_count": null,
   "metadata": {},
   "outputs": [],
   "source": [
    "#Plots the dates after adding the \n",
    "fig,ax = plt.subplots(figsize=(18,8))\n",
    "ax.plot(df.index,df[\"Close\"])\n",
    "ax.set_xlabel(\"dates\",size=15)\n",
    "plt.show()"
   ]
  },
  {
   "cell_type": "code",
   "execution_count": null,
   "metadata": {},
   "outputs": [],
   "source": [
    "#List of dates for the apple events\n",
    "apple_event_dates_str=[\"2015-03-09\",\"2015-06-10\",\"2015-09-09\",\n",
    "\"2016-03-21\",\"2016-06-15\",\"2016-09-07\", \"2016-10-27\",\n",
    "\"2017-06-07\", \"2017-09-12\",\n",
    "\"2018-03-27\",\"2018-06-06\", \"2018-09-12\", \"2018-10-30\",\n",
    "\"2019-03-25\",\"2019-06-05\",\"2019-09-10\",\"2019-12-02\",\n",
    "\"2020-06-24\",\"2020-09-15\",\"2020-10-13\",\"2020-11-10\"]\n",
    "\n",
    "\n",
    "#apple_event_dates_pd = pd.DataFrame({'Date':[dt.datetime.strptime(date, \"%Y-%m-%d\").date() for date in apple_event_dates_str]})\n",
    "apple_event_dates=[dt.datetime.strptime(date, \"%Y-%m-%d\").date() for date in apple_event_dates_str]"
   ]
  },
  {
   "cell_type": "code",
   "execution_count": null,
   "metadata": {},
   "outputs": [],
   "source": [
    "ap=df[df.index.isin(apple_event_dates_str)]"
   ]
  },
  {
   "cell_type": "code",
   "execution_count": null,
   "metadata": {},
   "outputs": [],
   "source": [
    "#type(df[\"Date\"])==type(apple_event_dates_pd[\"Date\"])\n",
    "df"
   ]
  },
  {
   "cell_type": "code",
   "execution_count": null,
   "metadata": {},
   "outputs": [],
   "source": [
    "#Plots the dates after adding the \n",
    "fig,ax = plt.subplots(figsize=(18,8))\n",
    "ax.plot(df.index,df.Close)\n",
    "ax.set_xlabel(\"dates\",size=15)\n",
    "ax.scatter(ap.index, ap.Close, c=\"r\", s=100, zorder=3)\n",
    "plt.show()"
   ]
  },
  {
   "cell_type": "markdown",
   "metadata": {},
   "source": [
    "## Group by week"
   ]
  },
  {
   "cell_type": "code",
   "execution_count": null,
   "metadata": {},
   "outputs": [],
   "source": [
    "df_week=pd.read_csv('./AAPL_2015_to_2020_yahoo_finance.csv')\n",
    "df_week['Date'] = pd.to_datetime(df['Date']) - pd.to_timedelta(7, unit='d')\n",
    "df = df.groupby(['Name', pd.Grouper(key='Date', freq='W-MON')])['Quantity'].sum().reset_index().sort_values('Date')"
   ]
  }
 ],
 "metadata": {
  "interpreter": {
   "hash": "188411ed0812b3328dfd369c024d7b6a24e76f04484f61e25acd4169340cb480"
  },
  "kernelspec": {
   "display_name": "Python 3.8.12 64-bit ('ada': conda)",
   "language": "python",
   "name": "python3"
  },
  "language_info": {
   "name": "python",
   "version": "3.8.12"
  },
  "orig_nbformat": 4
 },
 "nbformat": 4,
 "nbformat_minor": 2
}
